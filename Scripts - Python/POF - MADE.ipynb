{
 "cells": [
  {
   "cell_type": "markdown",
   "id": "d51b6db2",
   "metadata": {},
   "source": [
    "# POF - Tributos diretos e transferências sob uma análise interseccional"
   ]
  },
  {
   "cell_type": "code",
   "execution_count": null,
   "id": "7dd1964c",
   "metadata": {},
   "outputs": [],
   "source": [
    "# Importando as bibliotecas necessárias para a manipulação dos dados\n",
    "import pyreadr\n",
    "import pandas as pd\n",
    "import numpy as np"
   ]
  },
  {
   "cell_type": "code",
   "execution_count": null,
   "id": "0b5e91b8",
   "metadata": {},
   "outputs": [],
   "source": [
    "import os\n",
    "os.chdir('Insira/aqui/seu/diretório/de/trabalho')"
   ]
  },
  {
   "cell_type": "markdown",
   "id": "0891e20a",
   "metadata": {},
   "source": [
    "## Introdução"
   ]
  },
  {
   "cell_type": "markdown",
   "id": "2fa9480c",
   "metadata": {},
   "source": [
    "Esse tutorial apresenta como produzir a base de dados utilizada na Nota de Política Econômica nº27 a partir das informações da Pesquisa de Orçamentos Familiares de 2017-2018. A metodologia empregada aqui segue os chamdos <a href='https://www.ibge.gov.br/estatisticas/sociais/saude/24786-pesquisa-de-orcamentos-familiares-2.html?=&t=microdados'>Tradutores de tabelas</a>, disponíveis na documentação da pesquisa, para identificação de rendimentos e se baseia em Gaiger,2020 para a classificação dos tributos. Os primeiros são compostos por duas categorias, *monetários* e *não monetários*, sendo os *não monetários* aqueles bens e serviços recebidos via provisão pública, doações privadas, trocas, produção própria e retirada do negócio.¹ O conjunto desses rendimentos compõem aquilo chamado pelo IBGE como *renda total*. A diferença na metodologia de consolidação entre esses rendimentos está no fato de que os *monetários* serão construídos para cada indivíduo e apenas depois repartidos entre os membros do núcleo familiar, chamado pelo IBGE por *unidade de consumo* (UC), nomenclatura que adotaremos daqui em diante; já os rendimentos *não monetários* serão agregados desde o início para toda a UC, sem a construção de informações desse tipo de rendimento para indivíduos. Os tributos também serão consolidados no nível da UC e depois per capitalizados.\n",
    "\n",
    "1: Ver o Dicionário de variáveis também disponível na [documentação](https://www.ibge.gov.br/estatisticas/sociais/saude/24786-pesquisa-de-orcamentos-familiares-2.html?=&t=microdados)."
   ]
  },
  {
   "cell_type": "markdown",
   "id": "3998cba0",
   "metadata": {},
   "source": [
    "A construção dessas variáveis utiliza de quase todos os questionários da POF. A descrição de quais elementos do orçamento familiar são mensurados por cada um dos questinários é feita no *Manual do agente de pesquisa*,² nele é possível identificar qual *quadro de produtos* está associado com qual questionário. A descrição de cada um dos produtos, seu quadro e código são encontrados no *Cadastro de Produtos*, também parte da documentação da pesquisa. Apenas como um exemplo da maneira de se navegar entre os vários documentos, vamos pegar o `IMPOSTO PREDIAL E TERRITORIAL URBANO (IPTU)` no *Cadastro de Produtos*. Ele é indicado como quadro `10` com código `1000601`. Como podemos ver no *Manual do agente de pesquisa* esse quadro pertence ao questionário *Despesa coletiva*, que considera alguns gastos comuns do núcleo familiar, e considera *Aluguel, impostos e outras taxas do domicílio principal no Período de Referência de 12 Meses*. Por fim, para que você entenda os ajustes que faremos adiante nos códigos dos produtos, repare que logo abaixo do código `1000601` no *Cadastro de Produtos* temos outro código associado apenas a `IPTU`. Devido a essas pequenas variações de nomenclatura, utilizaremos ao longo desse tutorial os cinco primeiros dígitos dos códigos, retirando a parte voltada para diferenciações como essa.\n",
    "\n",
    "2:Também disponível na [documentação](https://www.ibge.gov.br/estatisticas/sociais/saude/24786-pesquisa-de-orcamentos-familiares-2.html?=&t=microdados) da pesquisa."
   ]
  },
  {
   "cell_type": "markdown",
   "id": "dcf1f3c3",
   "metadata": {},
   "source": [
    "Feita essa primeira matrícula no material da pesquisa, vamos abrir nossas bases de dados. Todas elas estão disponíveis no [link](https://www.ibge.gov.br/estatisticas/sociais/saude/24786-pesquisa-de-orcamentos-familiares-2.html?=&t=microdados) dos *Dados*, enquanto o link *Programa de leitura* permite abrir os arquivos em formato `.fwf` (*fixed width format*) através do **R**. Repare que os arquivos `.rds`, que resultam do código fornecido pelo IBGE, devem estar no seu diretório de trabalho para que você possa acessá-los. Vamos começar abrindo a base `MORADOR` que nos indica cada uma das pessoas recenseadas pela POF e na sequência copiá-la para nossa base principal que trabalharemos ao longo do tutorial. A ideia de manter a base `MORADOR` independente é para que você possa retornar a ela para comparações caso desconfie que algo não tenha funcionado direito.\n",
    "Aqui utilizamos a biblioteca pyreadr para ler os arquivos `.rds`.\n"
   ]
  },
  {
   "cell_type": "code",
   "execution_count": null,
   "id": "70d13c89",
   "metadata": {},
   "outputs": [],
   "source": [
    "result = pyreadr.read_r('./Dados/MORADOR.rds')"
   ]
  },
  {
   "cell_type": "code",
   "execution_count": null,
   "id": "7335d603",
   "metadata": {},
   "outputs": [],
   "source": [
    "MORADOR = result[None]"
   ]
  },
  {
   "cell_type": "code",
   "execution_count": null,
   "id": "ef17c857",
   "metadata": {},
   "outputs": [],
   "source": [
    "base = MORADOR.copy()"
   ]
  },
  {
   "cell_type": "markdown",
   "id": "604acb47",
   "metadata": {},
   "source": [
    "Voltaremos mais tarde para a base de moradores a fim de obter o número de integrantes de cada família. Porém, até lá, vamos seguir com os demais questionários para extrair as informações de cada um deles.\n",
    "\n",
    "### Despesa coletiva\n",
    "\n",
    "No questionário da **Despesa coletiva** vamos obter o pagamento de dois tipos de impostos, aqueles sobre bens imóveis, incluindo aqui (IPTU, ITR, etc.), além das Contribuições previdenciárias pagas para trabalhadores domésticos."
   ]
  },
  {
   "cell_type": "code",
   "execution_count": null,
   "id": "fda4edb7",
   "metadata": {},
   "outputs": [],
   "source": [
    "DESPESA_COLETIVA = pyreadr.read_r('./Dados/DESPESA_COLETIVA.rds')\n",
    "DESPESA_COLETIVA = DESPESA_COLETIVA[None]"
   ]
  },
  {
   "cell_type": "code",
   "execution_count": null,
   "id": "2f6086e3",
   "metadata": {},
   "outputs": [],
   "source": [
    "DESPESA_COLETIVA = DESPESA_COLETIVA.astype({\"V9001\": str},errors='ignore')"
   ]
  },
  {
   "cell_type": "markdown",
   "id": "03c3f04a",
   "metadata": {},
   "source": [
    "\n",
    "Abaixo temos uma descrição das variáveis desse questionário que vamos utilizar.\n",
    "<table>\n",
    "  <tr>\n",
    "    <th>Código</th>\n",
    "    <th>Variável</th>\n",
    "  </tr>\n",
    "  <tr>\n",
    "    <td>V9001</td>\n",
    "    <td>Produto consumido</td>\n",
    "  </tr>\n",
    "  <tr>\n",
    "    <td>V1904</td>\n",
    "    <td>Valor da despesa com INSS e outras contribuições</td>\n",
    "  </tr>\n",
    "   <tr>\n",
    "    <td>V8000_DEFLA</td>\n",
    "    <td>Valor do gasto deflacionado</td>\n",
    "  </tr>\n",
    "  <tr>\n",
    "    <td>V9011</td>\n",
    "    <td>Nº de meses em que o produto foi adquirido</td>\n",
    "  </tr>\n",
    "  <tr>\n",
    "    <td>FATOR_ANUALIZACAO</td>\n",
    "    <td>Definido para as variáveis com a V9011 faltante</td>\n",
    "  </tr>\n",
    "</table>\n",
    "Para cada um dos tributos e dos rendimentos vamos criar um objeto que armazene os códigos relacionados a eles, assim é possível modificar apenas essa parte da nossa rotina em eventuais mudanças dos produtos a serem considerados. No caso da `CONTRIBUICAO_PREVIDENCIARIA` criaremos uma lista pois será preciso incluirmos outros códigos para ela, não relacionados ao gasto da família, mas sim com as deduções das rendas do trabalho."
   ]
  },
  {
   "cell_type": "code",
   "execution_count": null,
   "id": "2c8b0cd7",
   "metadata": {},
   "outputs": [],
   "source": [
    "IMOVEL = ['10006', '10011', '47006', '10007', '10007', '10007', '10012','47007', '10013', '47026', '10014', '10015', '10016', '12035']"
   ]
  },
  {
   "cell_type": "code",
   "execution_count": null,
   "id": "bd41cbcf",
   "metadata": {},
   "outputs": [],
   "source": [
    "CONTRIBUICAO_PREVIDENCIARIA = {'CONT_PREV_EMP': ['19001','19002','19003','19004','19005','19006','19007','19008','19009','19010','19011','19012','19013','19014','19015','19016','19017','19999']}"
   ]
  },
  {
   "cell_type": "markdown",
   "id": "f3c580fa",
   "metadata": {},
   "source": [
    "Como discutido acima, vamos adaptar cada um dos questionários para que a identificação feita pela `V9001` seja apenas através dos 5 primeiros dígitos.\n"
   ]
  },
  {
   "cell_type": "code",
   "execution_count": null,
   "id": "e621b175",
   "metadata": {},
   "outputs": [],
   "source": [
    "DESPESA_COLETIVA.loc[:,'V9001'] = DESPESA_COLETIVA.loc[:,'V9001'].str.slice(0,5)"
   ]
  },
  {
   "cell_type": "markdown",
   "id": "b679104b",
   "metadata": {},
   "source": [
    "Outra característica importante da pesquisa é que ela considera os gastos durante todo o ano, sendo necessário mensalizar cada um deles para fazer a comparação com a renda. Para isso, é preciso computar o total dispendido no ano, multiplicando o valor gasto `\"V8000_DEFLA\"`, pelo número de vezes em que ele foi realizado no ano (`V9011`) e pelo chamado `FATOR_ANUALIZACAO`. Esses dois fatores são complementares entre si, quando um deles possui informações relevantes sobre o gasto, o outro não. Para facilitar o processo de anualização começamos substituindo `V9011` por `1` toda vez que ela for `NA` (faltante)."
   ]
  },
  {
   "cell_type": "code",
   "execution_count": null,
   "id": "07a5cc47",
   "metadata": {},
   "outputs": [],
   "source": [
    "DESPESA_COLETIVA['V9011'] = DESPESA_COLETIVA['V9011'].fillna(1)"
   ]
  },
  {
   "cell_type": "markdown",
   "id": "1254cbf4",
   "metadata": {},
   "source": [
    "Na sequência usamos o método `apply` sobre as duas variáveis que nos retornam os valores monetários dos gastos (`\"V8000_DEFLA\"` e `\"V1904_DEFLA\"`). Dentro do `apply` utilizamos uma função anônima para mensalizar as despesas."
   ]
  },
  {
   "cell_type": "code",
   "execution_count": null,
   "id": "cafe49fc",
   "metadata": {},
   "outputs": [],
   "source": [
    "DESPESA_COLETIVA.loc[:,[\"V8000_DEFLA\", \"V1904_DEFLA\"]] = DESPESA_COLETIVA.loc[:,[\"V8000_DEFLA\", \"V1904_DEFLA\"]].apply(lambda x: x*DESPESA_COLETIVA['V9011']*DESPESA_COLETIVA['FATOR_ANUALIZACAO']/12)"
   ]
  },
  {
   "cell_type": "markdown",
   "id": "abac6226",
   "metadata": {},
   "source": [
    "O procedimento acima e os passos a seguir se repetirão durante todo o processo, fazendo as adaptações necessárias para cada um dos questionários, aos poucos se tornará um pouco mais familiar. Agora é preciso criar um indicador capaz de identificar nas linhas da base com que estamos trabalhando os códigos dos produtos que buscamos. Como os tributos sobre a folha de pagamento são indicados por outras variávies que não a `\"V8000_DEFLA\"`, em alguns questionários criaremos uma lista na qual cada um dos elementos será formado por duas partes. Na primeira, vamos identificar em quais linhas da variável `V9001` temos produtos listados nos grupos que desejamos, algo feito utilizando o método `.isin()`. Enquanto sua segunda parte será responsável por indicar qual variável deve ser utilizada no cômputo de cada um desses grupos de gastos/rendimentos."
   ]
  },
  {
   "cell_type": "markdown",
   "id": "db1dced1",
   "metadata": {},
   "source": [
    "Para além da identificação dos impostos, vamos também já computar os chamados rendimentos não monetários, aqueles cuja forma de aquisição descrita pela variável `V9002` registram: `7` - Doação, `8` - Retirada do negócio, `9` - Troca, `10` - Produção própria e `11` - Outra. A metodologia para construção dessa parcela da renda também é descrita nos [*Tradutores de tabelas*](https://www.ibge.gov.br/estatisticas/sociais/saude/24786-pesquisa-de-orcamentos-familiares-2.html?=&t=microdados)."
   ]
  },
  {
   "cell_type": "code",
   "execution_count": null,
   "id": "f94f6803",
   "metadata": {},
   "outputs": [],
   "source": [
    "i_coletiva = {\n",
    "    'IMOVEL': [DESPESA_COLETIVA['V9001'].isin(IMOVEL),\"V8000_DEFLA\"],\n",
    "    'CONT_PREV_EMP': [DESPESA_COLETIVA['V9001'].isin(CONTRIBUICAO_PREVIDENCIARIA['CONT_PREV_EMP']),\"V1904_DEFLA\"],\n",
    "    'N_MONET_1':[DESPESA_COLETIVA['V9002'].isin(list(range(7,12))),\"V8000_DEFLA\"]\n",
    "}"
   ]
  },
  {
   "cell_type": "markdown",
   "id": "8276814d",
   "metadata": {},
   "source": [
    "Por fim, nosso método de agregação para cada família será utilizando a função `groubpy()`, outro *funcional* que nos permite produzir tabelas resumo. Para realizar a agregação nós faremos um ciclo sobre `i_coletiva`, no qual o elemento `indice` será composto pelas duas partes da lista descrita acima na mesma ordem que os criamos. Dessa forma, `indice[0]` será uma sequência de valores lógicos indicando quais linhas devem ser agregadas, enquanto `indice[1]` mostrará qual variável deve ser utilizada para computarmos aquele tributo/rendimento. Com esses dois critérios poderemos agregar para cada uma das UC qual a *soma* dos gastos que desejamos analisar utilizando a função `.sum()`."
   ]
  },
  {
   "cell_type": "markdown",
   "id": "8aca32e4",
   "metadata": {},
   "source": [
    "A junção da nossa base com as novas informações será feita através da função `merge`, responsável por atribuir as agregações feitas pela função `groupby()` a cada uma das UC. Para isso, devemos indicar quais bases de dados desejamos juntar e qual o critério de conexão entre elas (`on=`). O argumento `how=` indica que queremos manter apenas as observações de uma das bases."
   ]
  },
  {
   "cell_type": "code",
   "execution_count": null,
   "id": "7401b480",
   "metadata": {},
   "outputs": [],
   "source": [
    "for indice in i_coletiva.values():\n",
    "    base = pd.merge(base,\n",
    "                    DESPESA_COLETIVA[indice[0]].groupby([\"COD_UPA\",\"NUM_DOM\",\"NUM_UC\"]).sum()[[indice[1]]], \n",
    "                    how = 'left',\n",
    "                    on=[\"COD_UPA\",\"NUM_DOM\",\"NUM_UC\"])"
   ]
  },
  {
   "cell_type": "markdown",
   "id": "298e4f1f",
   "metadata": {},
   "source": [
    "A última etapa para cada um dos questionários, que vamos reproduzir adiante, será nomear as variáveis adicionadas à nossa `base`. Para isso vamos sempre utilizar uma regra para que o tamanho da nossa lista de *indices* (nesse caso o `i_coletiva`) sirva como referência sobre quantas variáveis estamos criando e qual o nome de cada uma delas."
   ]
  },
  {
   "cell_type": "markdown",
   "id": "68c73b3e",
   "metadata": {},
   "source": [
    "Agora vamos acrescentar a informação sobre o tipo de contratação de serviços domésticos da família (se mensalista, diarista e etc.), fornecida pela variável `V1905` (com o nome *espécie em que o serviço doméstico foi contratado pela UC*) desse mesmo questionário. Para isso, em primeiro lugar vamos retirar todas as respostas *Sem declaração*, alterando o valor `9` para `NaN`. Na sequência vamos criar um vetor lógico para identificar os gastos com trabalhadoras domésticas chamado por `quadro19`. Por fim, a agregação será feita por domicílio, de modo a estabelecer um novo valor possível para a variável `V1905`, imputando a ela o valor `2` para os casos em que a UC conte com mais de uma trabalhadora doméstica. "
   ]
  },
  {
   "cell_type": "code",
   "execution_count": null,
   "id": "f4bc63ed",
   "metadata": {},
   "outputs": [],
   "source": [
    "base.set_axis([*base.columns[:base.shape[1]-len(i_coletiva.keys())], *list(i_coletiva.keys())], axis=1, inplace=True)"
   ]
  },
  {
   "cell_type": "code",
   "execution_count": null,
   "id": "66cfc683",
   "metadata": {},
   "outputs": [],
   "source": [
    "DESPESA_COLETIVA.loc[DESPESA_COLETIVA['V1905']==9,'V1905'] = np.NaN"
   ]
  },
  {
   "cell_type": "code",
   "execution_count": null,
   "id": "4b429ec1",
   "metadata": {},
   "outputs": [],
   "source": [
    "quadro19 = DESPESA_COLETIVA['V9001'].str.slice(0,2)=='19'"
   ]
  },
  {
   "cell_type": "code",
   "execution_count": null,
   "id": "e6cd5529",
   "metadata": {},
   "outputs": [],
   "source": [
    "df_contrempdom = DESPESA_COLETIVA[quadro19].groupby([\"COD_UPA\",\"NUM_DOM\",\"NUM_UC\"])['V1905'].apply(list).reset_index(name=\"ContrEmpDom\")"
   ]
  },
  {
   "cell_type": "code",
   "execution_count": null,
   "id": "2462d3bd",
   "metadata": {},
   "outputs": [],
   "source": [
    "df_contrempdom.loc[:,\"ContrEmpDom\"] = df_contrempdom.loc[:,\"ContrEmpDom\"].apply(lambda x: 2 if len(x)>1 else x[0])"
   ]
  },
  {
   "cell_type": "code",
   "execution_count": null,
   "id": "517052b9",
   "metadata": {},
   "outputs": [],
   "source": [
    "base = pd.merge(base,\n",
    "                    df_contrempdom, \n",
    "                    how = 'left',\n",
    "                    on=[\"COD_UPA\",\"NUM_DOM\",\"NUM_UC\"])"
   ]
  },
  {
   "cell_type": "markdown",
   "id": "6956d57f",
   "metadata": {},
   "source": [
    "### Rendimentos do trabalho\n",
    "\n",
    "No questinário de **Rendimentos do trabalho** vamos extrair uma série de informações distintas. Isso porque para além de começarmos a compor o rendimento das famílias, também vamos computar deduções com previdência, imposto de renda e outros descontos.\n",
    "<table>\n",
    "  <tr>\n",
    "    <th>Código</th>\n",
    "    <th>Variável</th>\n",
    "  </tr>\n",
    "  <tr>\n",
    "    <td>V9001</td>\n",
    "    <td>Tipo de rendimento</td>\n",
    "  </tr>\n",
    "  <tr>\n",
    "    <td>V531112_DEFLA</td>\n",
    "    <td>Dedução com previdência pública deflacionada</td>\n",
    "  </tr>\n",
    "   <tr>\n",
    "    <td>V531122_DEFLA</td>\n",
    "    <td>Dedução com imposto de renda deflacionada</td>\n",
    "  </tr>\n",
    "  <tr>\n",
    "    <td>V531132_DEFLA</td>\n",
    "    <td>Dedução com ISS e outros impostos deflacionada</td>\n",
    "  </tr>\n",
    "  <tr>\n",
    "    <td>V9010</td>\n",
    "    <td>Ultimo mes do rendimento</td>\n",
    "  </tr>\n",
    "  <tr>\n",
    "    <td>V9011</td>\n",
    "    <td>Nº de meses em que o rendimento foi recebido</td>\n",
    "  </tr>\n",
    "   <tr>\n",
    "    <td>FATOR_ANUALIZACAO</td>\n",
    "    <td>Definido para as variáveis com a V9011 faltante</td>\n",
    "    </tr>\n",
    "   <tr>\n",
    "    <td>V8500_DEFLA</td>\n",
    "    <td>Valor do rendimento deflacionado</td>\n",
    "    </tr>\n",
    "</table>\n",
    "\n",
    "Contudo, para que possamos reconstituir a `RENDA_TOTAL` reportada na POF, e usada como referência na Nota, faremos uso da tabela de *Tradutor de rendimentos*, também disponível no **Tradutor de tabelas**."
   ]
  },
  {
   "cell_type": "code",
   "execution_count": null,
   "id": "7ad3ebf6",
   "metadata": {},
   "outputs": [],
   "source": [
    "RENDIMENTO_TRABALHO = pyreadr.read_r('./Dados/RENDIMENTO_TRABALHO.rds')\n",
    "RENDIMENTO_TRABALHO = RENDIMENTO_TRABALHO[None]"
   ]
  },
  {
   "cell_type": "code",
   "execution_count": null,
   "id": "ef8ed268",
   "metadata": {},
   "outputs": [],
   "source": [
    "tradutor_renda = pd.read_excel('./Dados/Tradutor_Rendimento.xlsx')"
   ]
  },
  {
   "cell_type": "markdown",
   "id": "add63140",
   "metadata": {},
   "source": [
    "Como é possível notar, a coluna `Descricao_2` apresenta seis categorias distintas de rendimentos: `\"Rendimento do Trabalho\"`, `\"Transferência\"`, `\"Rendimento de aluguel\"`, `\"Outras rendas\"` e `\"Rendimento Não Monetário\"`, para além de uma informação faltante que se refere ao rendimento de variação patrimonial, que veremos mais adiante como construir. Dessas todas, apenas parte da primeira é obtida no questionário de `Rendimento do trabalho`. Para que não tenhamos problemas na identificação dos códigos, vamos excluir a linha referente à variação patrimonial."
   ]
  },
  {
   "cell_type": "code",
   "execution_count": null,
   "id": "2280f634",
   "metadata": {},
   "outputs": [],
   "source": [
    "tradutor_renda = tradutor_renda.iloc[:-1]"
   ]
  },
  {
   "cell_type": "markdown",
   "id": "3156c618",
   "metadata": {},
   "source": [
    "Dentre os códigos descritos para os rendimentos do trabalho estão alguns que classificaremos em outras categorias, como vale-alimentação (código `54016`), contudo, os únicos códigos incluídos na base *Rendimento do trabalho* são aqueles referentes ao quadro 53 (*Trabablho, rendimentos e deduções no período de referência de 12 meses no trabalho principal ou outro trabalho*). Portanto, quando fizermos a busca da variável `V9001` nos códigos descritos no objeto `TRABALHO` abaixo, não estaremos computando esses outros rendimentos"
   ]
  },
  {
   "cell_type": "code",
   "execution_count": null,
   "id": "a4286872",
   "metadata": {},
   "outputs": [],
   "source": [
    "tradutor_renda = tradutor_renda.astype({\"Codigo\": str},errors='ignore')"
   ]
  },
  {
   "cell_type": "code",
   "execution_count": null,
   "id": "811e84a0",
   "metadata": {},
   "outputs": [],
   "source": [
    "TRABALHO = tradutor_renda[tradutor_renda['Descricao_2']==\"Rendimento do Trabalho\"].loc[:,'Codigo'].str.slice(0,5)"
   ]
  },
  {
   "cell_type": "markdown",
   "id": "891e11a4",
   "metadata": {},
   "source": [
    "Na sequência vamos descrever os códigos de todas as deduções consideradas pela POF (previdência `\"V531112_DEFLA\"`, imposto de renda `\"V531122_DEFLA\"` e outras deduções como ISS `\"V531132_DEFLA\"`) e depois retomamos os mesmos passos feitos acima."
   ]
  },
  {
   "cell_type": "code",
   "execution_count": null,
   "id": "eca23810",
   "metadata": {},
   "outputs": [],
   "source": [
    "DEDUCOES = {'IRPF_TRA': ['53001','53002','53003','53004','53005','53006','48031'], 'DEDUCOES_TRABALHO':['53001','53002','53003','53004','53005','53006'], 'DEDUCOES_NAO_TRABALHO':['54001','54002','54003','54004','54005','54006','54007','54008','54009','54010','54011','54012','54013','54014','54015','54016','54017','54018','54019','54020','54021','54022','54023','54024','54025','54026','54027','54028','54029','54030','54031','54032','54033','54034','54035','55001','55002','55003','55004','55005','55006','55007','55008','55009','55010','55011','55012','55013','55014','55015','55016','55017','55018','55019','55020','55021','55022','55023','55024','55025','55026','55027','55028','55029','55030','55031','55032','55033','55034','55035','55036','55037','55038','55039','55040','55041','55042','55043','55044','55045','55046','55047','55048','55049','55050','55051','55052','55053','55054','55055','55056','55057','55058','55059','55060','55061','55062','55063','55064','55065','55066','55067']}"
   ]
  },
  {
   "cell_type": "code",
   "execution_count": null,
   "id": "d358e42b",
   "metadata": {},
   "outputs": [],
   "source": [
    "CONTRIBUICAO_PREVIDENCIARIA.update({'CONT_PREV_TRABALHO': ['53001','53002','53003','53004','53005','53006']})"
   ]
  },
  {
   "cell_type": "code",
   "execution_count": null,
   "id": "8ad55853",
   "metadata": {},
   "outputs": [],
   "source": [
    "RENDIMENTO_TRABALHO = RENDIMENTO_TRABALHO.astype({\"V9001\": str},errors='ignore')"
   ]
  },
  {
   "cell_type": "code",
   "execution_count": null,
   "id": "82b53cf2",
   "metadata": {},
   "outputs": [],
   "source": [
    "RENDIMENTO_TRABALHO.loc[:,'V9001'] = RENDIMENTO_TRABALHO.loc[:,'V9001'].str.slice(0,5)"
   ]
  },
  {
   "cell_type": "code",
   "execution_count": null,
   "id": "ed042087",
   "metadata": {},
   "outputs": [],
   "source": [
    "RENDIMENTO_TRABALHO['V9011'] = RENDIMENTO_TRABALHO['V9011'].fillna(1)"
   ]
  },
  {
   "cell_type": "code",
   "execution_count": null,
   "id": "04589e6b",
   "metadata": {},
   "outputs": [],
   "source": [
    "RENDIMENTO_TRABALHO.loc[:,[\"V531122_DEFLA\", \"V531112_DEFLA\", \"V531132_DEFLA\", \"V8500_DEFLA\"]] = RENDIMENTO_TRABALHO.loc[:,[\"V531122_DEFLA\", \"V531112_DEFLA\", \"V531132_DEFLA\", \"V8500_DEFLA\"]].apply(lambda x: x*RENDIMENTO_TRABALHO['V9011']*RENDIMENTO_TRABALHO['FATOR_ANUALIZACAO']/12)"
   ]
  },
  {
   "cell_type": "code",
   "execution_count": null,
   "id": "0f1fa9c1",
   "metadata": {},
   "outputs": [],
   "source": [
    "i_rend_trab = {\n",
    "    'IRPF_TRA' : [RENDIMENTO_TRABALHO['V9001'].isin(DEDUCOES['IRPF_TRA']),\"V531122_DEFLA\"],\n",
    "    'CONT_PREV_TRA' : [RENDIMENTO_TRABALHO['V9001'].isin(CONTRIBUICAO_PREVIDENCIARIA['CONT_PREV_TRABALHO']),\"V531112_DEFLA\"],\n",
    "    'DEDUCOES_TRABALHO' : [RENDIMENTO_TRABALHO['V9001'].isin(DEDUCOES['DEDUCOES_TRABALHO']),\"V531132_DEFLA\"]\n",
    "}"
   ]
  },
  {
   "cell_type": "code",
   "execution_count": null,
   "id": "ca0a928a",
   "metadata": {},
   "outputs": [],
   "source": [
    "for indice in i_rend_trab.values():\n",
    "    base = pd.merge(base,\n",
    "                    RENDIMENTO_TRABALHO[indice[0]].groupby([\"COD_UPA\",\"NUM_DOM\",\"NUM_UC\"]).sum()[[indice[1]]], \n",
    "                    how = 'left',\n",
    "                    on=[\"COD_UPA\",\"NUM_DOM\",\"NUM_UC\"])"
   ]
  },
  {
   "cell_type": "code",
   "execution_count": null,
   "id": "5b0f7789",
   "metadata": {},
   "outputs": [],
   "source": [
    "base.set_axis([*base.columns[:base.shape[1]-len(i_rend_trab.keys())], *list(i_rend_trab.keys())], axis=1, inplace=True)"
   ]
  },
  {
   "cell_type": "markdown",
   "id": "3eaccfd2",
   "metadata": {},
   "source": [
    "### Construção dos rendimentos - Trabalho\n",
    "\n",
    "Agora, ao invés de identificarmos os rendimentos monetários do trabalho para a UC, vamos identificar para cada um dos indivíduos, utilizando ainda a função `aggregate`, mas adicionando a variável `\"COD_INFORMANTE\"` na informação do agrupamento. Vamos atribuir o nome da variável como `\"TRABALHO_1\"` pois ainda teremos outro rendimento do trabalho mais adiante."
   ]
  },
  {
   "cell_type": "code",
   "execution_count": null,
   "id": "000b0ad2",
   "metadata": {},
   "outputs": [],
   "source": [
    "base = pd.merge(base,\n",
    "                    RENDIMENTO_TRABALHO[RENDIMENTO_TRABALHO['V9001'].isin(TRABALHO)].groupby([\"COD_UPA\",\"NUM_DOM\",\"NUM_UC\",\"COD_INFORMANTE\"]).sum()[[\"V8500_DEFLA\"]], \n",
    "                    how = 'left',\n",
    "                    on=[\"COD_UPA\",\"NUM_DOM\",\"NUM_UC\", \"COD_INFORMANTE\"])"
   ]
  },
  {
   "cell_type": "code",
   "execution_count": null,
   "id": "82a55990",
   "metadata": {},
   "outputs": [],
   "source": [
    "base.set_axis([*base.columns[:-1], 'TRABALHO_1'], axis=1, inplace=True)"
   ]
  },
  {
   "cell_type": "markdown",
   "id": "76fda2bb",
   "metadata": {},
   "source": [
    "### Outros rendimentos\n",
    "\n",
    "No questionário de *Outros rendimentos* faremos duas etapas. A primeira consiste nos passos que já temos feito, enquanto a segunda será o cálculo de uma parte da chamada *variação patrimonial*, para a qual seguiremos as instruções dadas nos *Tradutores de tabelas* que discutimos acima.\n"
   ]
  },
  {
   "cell_type": "code",
   "execution_count": null,
   "id": "4f56df9d",
   "metadata": {},
   "outputs": [],
   "source": [
    "OUTROS_RENDIMENTOS = pyreadr.read_r('./Dados/OUTROS_RENDIMENTOS.rds')\n",
    "OUTROS_RENDIMENTOS = OUTROS_RENDIMENTOS[None]"
   ]
  },
  {
   "cell_type": "markdown",
   "id": "48c8bb6e",
   "metadata": {},
   "source": [
    "<table>\n",
    "  <tr>\n",
    "    <th>Código</th>\n",
    "    <th>Variável</th>\n",
    "  </tr>\n",
    "  <tr>\n",
    "    <td>V9001</td>\n",
    "    <td>Tipo de rendimento</td>\n",
    "  </tr>\n",
    "  <tr>\n",
    "    <td>V8500_DEFLA</td>\n",
    "    <td>Valor do rendimento deflacionado</td>\n",
    "  </tr>\n",
    "   <tr>\n",
    "    <td>V8501_DEFLA</td>\n",
    "    <td>Valor da dedução deflacionado</td>\n",
    "  </tr>\n",
    "  <tr>\n",
    "    <td>V9010</td>\n",
    "    <td>Ultimo mes do rendimento</td>\n",
    "  </tr>\n",
    "  <tr>\n",
    "    <td>V9011</td>\n",
    "    <td>Nº de meses em que o rendimento foi recebido</td>\n",
    "  </tr>\n",
    "   <tr>\n",
    "    <td>FATOR_ANUALIZACAO</td>\n",
    "    <td>Definido para as variáveis com a V9011 faltante</td>\n",
    "    </tr>\n",
    "</table>\n",
    "\n",
    "Todos os códigos indicados a seguir são de transfêrencias governamentais, algumas do sistema de previdência, como as aposentadorias do Regime Geral da Previdência Social e do Regime Próprio de Previdência Social (exclusiva do funcionalismo público), outras de caráter assistencial, como o Programa Bolsa Família e o Benefício de Prestação Continuada."
   ]
  },
  {
   "cell_type": "code",
   "execution_count": null,
   "id": "b75cd0e9",
   "metadata": {},
   "outputs": [],
   "source": [
    "RGPS = ['54004','54005','55003','55004','55050']\n",
    "\n",
    "RPPS = ['54006','54007','55005','55006']\n",
    "\n",
    "AUXILIO_PUBLICO = ['54009','54024','54026','54027','54030','54034','55036','55045','55056','55062','55065','55066']\n",
    "\n",
    "AUXILIO_MISTO = ['54016','54017','54020','54022','54023','54025','54032','54033','55047','55055']\n",
    "\n",
    "BOLSA_FAMILIA = ['54001','54003','55018']\n",
    "\n",
    "BPC = ['54002']\n",
    "\n",
    "BOLSA_ESTUDO = ['54010']\n",
    "\n",
    "SEGURO_DESEMPREGO = ['55017']"
   ]
  },
  {
   "cell_type": "markdown",
   "id": "bb50f6ca",
   "metadata": {},
   "source": [
    "Para além dessas, vamos identificar outros rendimentos classificados como transferências através dos *Tradutores de rendimentos*, além dos rendimentos de aluguel e outras rendas. Para não fazermos dupla contagem de nenhuma das transferências vamos selecionar os códigos indicados no *tradutor de rendimentos* excluindo aquelas já identificadas, para as quais também nos baseamos em Gaiger, 2020.\n"
   ]
  },
  {
   "cell_type": "code",
   "execution_count": null,
   "id": "b192dc8d",
   "metadata": {},
   "outputs": [],
   "source": [
    "TRANSFERENCIAS = list(set(tradutor_renda[tradutor_renda['Descricao_2']=='Transferência']['Codigo'].str.slice(0,5))-set([*RGPS,*RPPS,*AUXILIO_PUBLICO,*AUXILIO_MISTO,*BOLSA_FAMILIA, *BPC,*BOLSA_ESTUDO,*SEGURO_DESEMPREGO]))"
   ]
  },
  {
   "cell_type": "code",
   "execution_count": null,
   "id": "ace413f1",
   "metadata": {},
   "outputs": [],
   "source": [
    "ALUGUEL = tradutor_renda[tradutor_renda['Descricao_2']==\"Rendimento de aluguel\"].loc[:,'Codigo'].str.slice(0,5)"
   ]
  },
  {
   "cell_type": "code",
   "execution_count": null,
   "id": "ddfdba75",
   "metadata": {},
   "outputs": [],
   "source": [
    "OUTRAS_RENDAS = tradutor_renda[tradutor_renda['Descricao_2']==\"Outras rendas\"].loc[:,'Codigo'].str.slice(0,5)"
   ]
  },
  {
   "cell_type": "markdown",
   "id": "3e3a9d02",
   "metadata": {},
   "source": [
    "Nessa parte retornamos aos mesmos passos anteriores."
   ]
  },
  {
   "cell_type": "code",
   "execution_count": null,
   "id": "35c05d6e",
   "metadata": {},
   "outputs": [],
   "source": [
    "OUTROS_RENDIMENTOS = OUTROS_RENDIMENTOS.astype({\"V9001\": str},errors='ignore')"
   ]
  },
  {
   "cell_type": "code",
   "execution_count": null,
   "id": "d113feb9",
   "metadata": {},
   "outputs": [],
   "source": [
    "OUTROS_RENDIMENTOS.loc[:,'V9001'] = OUTROS_RENDIMENTOS.loc[:,'V9001'].str.slice(0,5)"
   ]
  },
  {
   "cell_type": "code",
   "execution_count": null,
   "id": "f74b78d0",
   "metadata": {},
   "outputs": [],
   "source": [
    "OUTROS_RENDIMENTOS['V9011'] = OUTROS_RENDIMENTOS['V9011'].fillna(1)"
   ]
  },
  {
   "cell_type": "code",
   "execution_count": null,
   "id": "bf2615b1",
   "metadata": {},
   "outputs": [],
   "source": [
    "OUTROS_RENDIMENTOS.loc[:,[\"V8500_DEFLA\", \"V8501_DEFLA\"]] = OUTROS_RENDIMENTOS.loc[:,[\"V8500_DEFLA\", \"V8501_DEFLA\"]].apply(lambda x: x*OUTROS_RENDIMENTOS['V9011']*OUTROS_RENDIMENTOS['FATOR_ANUALIZACAO']/12)"
   ]
  },
  {
   "cell_type": "markdown",
   "id": "eec659eb",
   "metadata": {},
   "source": [
    "Agora, como vamos trabalhar apenas com rendimentos, nossa lista dos índices será utilizada apenas na agregação por indivíduo e todos na mesma variável (`V8500_DEFLA`)."
   ]
  },
  {
   "cell_type": "code",
   "execution_count": null,
   "id": "7c14372f",
   "metadata": {},
   "outputs": [],
   "source": [
    "i_out_rend = {\n",
    "    'RGPS_T': OUTROS_RENDIMENTOS['V9001'].isin(RGPS),\n",
    "    'RPPS_T': OUTROS_RENDIMENTOS['V9001'].isin(RPPS),\n",
    "    'AUXI_PUB_T': OUTROS_RENDIMENTOS['V9001'].isin(AUXILIO_PUBLICO),\n",
    "    'AUX_MIS_T': OUTROS_RENDIMENTOS['V9001'].isin(AUXILIO_MISTO),\n",
    "    'PBF_T': OUTROS_RENDIMENTOS['V9001'].isin(BOLSA_FAMILIA),\n",
    "    'BPC_T': OUTROS_RENDIMENTOS['V9001'].isin(BPC),\n",
    "    'BOL_EST_T': OUTROS_RENDIMENTOS['V9001'].isin(BOLSA_ESTUDO),\n",
    "    'SEG_DES_T': OUTROS_RENDIMENTOS['V9001'].isin(SEGURO_DESEMPREGO),\n",
    "    'ALUGUEL': OUTROS_RENDIMENTOS['V9001'].isin(ALUGUEL),\n",
    "    'OUTRAS_RENDAS': OUTROS_RENDIMENTOS['V9001'].isin(OUTRAS_RENDAS),\n",
    "    'TRABALHO_2': OUTROS_RENDIMENTOS['V9001'].isin(set(TRABALHO)-set([*AUXILIO_MISTO,*AUXILIO_PUBLICO])),\n",
    "    'OUTRAS_TRANSFERENCIAS_T' : OUTROS_RENDIMENTOS['V9001'].isin(TRANSFERENCIAS)\n",
    "}"
   ]
  },
  {
   "cell_type": "code",
   "execution_count": null,
   "id": "b8f1301f",
   "metadata": {},
   "outputs": [],
   "source": [
    "for indice in i_out_rend.values():\n",
    "    base = pd.merge(base,\n",
    "                    OUTROS_RENDIMENTOS[indice].groupby([\"COD_UPA\",\"NUM_DOM\",\"NUM_UC\",\"COD_INFORMANTE\"]).sum()[['V8500_DEFLA']], \n",
    "                    how = 'left',\n",
    "                    on=[\"COD_UPA\",\"NUM_DOM\",\"NUM_UC\",\"COD_INFORMANTE\"])"
   ]
  },
  {
   "cell_type": "code",
   "execution_count": null,
   "id": "acbcbab6",
   "metadata": {},
   "outputs": [],
   "source": [
    "base.set_axis([*base.columns[:base.shape[1]-len(i_out_rend.keys())], *list(i_out_rend.keys())], axis=1, inplace=True)"
   ]
  },
  {
   "cell_type": "markdown",
   "id": "cbbc28f1",
   "metadata": {},
   "source": [
    "Agora será preciso computarmos as *Deduções não trabalho* conforme indicadas em Gaiger, 2020. Para elas faremos a agregação no nível da UC, como temos feito com os tributos."
   ]
  },
  {
   "cell_type": "code",
   "execution_count": null,
   "id": "a57efbda",
   "metadata": {},
   "outputs": [],
   "source": [
    "DEDUCOES_N_T = OUTROS_RENDIMENTOS['V9001'].isin(DEDUCOES['DEDUCOES_NAO_TRABALHO'])"
   ]
  },
  {
   "cell_type": "code",
   "execution_count": null,
   "id": "0da3ab39",
   "metadata": {},
   "outputs": [],
   "source": [
    "base = pd.merge(base,\n",
    "                    OUTROS_RENDIMENTOS[DEDUCOES_N_T].groupby([\"COD_UPA\",\"NUM_DOM\",\"NUM_UC\"]).sum()[['V8501_DEFLA']], \n",
    "                    how = 'left',\n",
    "                    on=[\"COD_UPA\",\"NUM_DOM\",\"NUM_UC\"])"
   ]
  },
  {
   "cell_type": "code",
   "execution_count": null,
   "id": "abd08386",
   "metadata": {},
   "outputs": [],
   "source": [
    "base.set_axis([*base.columns[:-1], 'DEDUCOES_N_T'], axis=1, inplace=True)"
   ]
  },
  {
   "cell_type": "markdown",
   "id": "c08a993e",
   "metadata": {},
   "source": [
    "### Variação patrimonial\n",
    "\n",
    "Para a construção dessa variável não seguiremos exatamente o procedimento descrito pelo *Tradutor de tabelas*. Ao invés de computarmos a primeira parte da variável para a UC, faremos por indivíduo, dado que assim temos um ajuste final melhor da variável com as informações divulgadas pelo IBGE."
   ]
  },
  {
   "cell_type": "code",
   "execution_count": null,
   "id": "61013f75",
   "metadata": {},
   "outputs": [],
   "source": [
    "VP1 = ['55008', '55010', '55016', '55020', '55021', '55022', '55023', '55024', '55025', '55026', '55035', '55037', '55044', '55053', '55061']"
   ]
  },
  {
   "cell_type": "code",
   "execution_count": null,
   "id": "ff366b67",
   "metadata": {},
   "outputs": [],
   "source": [
    "base = pd.merge(base,\n",
    "                    OUTROS_RENDIMENTOS[OUTROS_RENDIMENTOS['V9001'].isin(VP1)].groupby([\"COD_UPA\",\"NUM_DOM\",\"NUM_UC\",\"COD_INFORMANTE\"]).sum()[[\"V8500_DEFLA\"]], \n",
    "                    how = 'left',\n",
    "                    on=[\"COD_UPA\",\"NUM_DOM\",\"NUM_UC\", \"COD_INFORMANTE\"])"
   ]
  },
  {
   "cell_type": "code",
   "execution_count": null,
   "id": "cb688788",
   "metadata": {},
   "outputs": [],
   "source": [
    "base.set_axis([*base.columns[:-1], 'VP1'], axis=1, inplace=True)"
   ]
  },
  {
   "cell_type": "markdown",
   "id": "2fc79886",
   "metadata": {},
   "source": [
    "Agora faremos o cálculo das diferenças indicadas na parte 2 da construção da variação patrimonial, seguindo as operações explicadas no *tradutor de tabelas*."
   ]
  },
  {
   "cell_type": "code",
   "execution_count": null,
   "id": "7c593830",
   "metadata": {},
   "outputs": [],
   "source": [
    "VP2 = ['57001', '56001', '57002', '56002', '57003', '56003', '57004', '56004']"
   ]
  },
  {
   "cell_type": "code",
   "execution_count": null,
   "id": "e2cc772c",
   "metadata": {},
   "outputs": [],
   "source": [
    "for produto in VP2:\n",
    "    base = pd.merge(base,\n",
    "                    OUTROS_RENDIMENTOS[OUTROS_RENDIMENTOS['V9001'] == produto].groupby([\"COD_UPA\",\"NUM_DOM\",\"NUM_UC\",\"COD_INFORMANTE\"]).sum()[[\"V8500_DEFLA\"]], \n",
    "                    how = 'left',\n",
    "                    on=[\"COD_UPA\",\"NUM_DOM\",\"NUM_UC\", \"COD_INFORMANTE\"])\n",
    "    base.set_axis([*base.columns[:-1], produto], axis=1, inplace=True)"
   ]
  },
  {
   "cell_type": "code",
   "execution_count": null,
   "id": "1b7493d7",
   "metadata": {},
   "outputs": [],
   "source": [
    "base.fillna(0, inplace = True)\n",
    "\n",
    "base['VP.1'] = base['57001'] - base['56001']\n",
    "base.loc[base['VP.1']<0, 'VP.1'] = 0\n",
    "base['VP.2'] = base['57002'] - base['56002']\n",
    "base.loc[base['VP.2']<0, 'VP.2'] = 0\n",
    "base['VP.3'] = base['57003'] - base['56003']\n",
    "base.loc[base['VP.3']<0, 'VP.3'] = 0\n",
    "base['VP.4'] = base['57004'] - base['56004']\n",
    "base.loc[base['VP.4']<0, 'VP.4'] = 0\n",
    "base['VP2'] = base['VP.1'] + base['VP.2'] + base['VP.3'] + base['VP.4']\n",
    "\n",
    "base.drop(base.columns[list(range(79,91))],axis=1, inplace = True)"
   ]
  },
  {
   "cell_type": "markdown",
   "id": "5a867aaa",
   "metadata": {},
   "source": [
    "Em seguida vamos agregar as informações de cada informante para a UC."
   ]
  },
  {
   "cell_type": "code",
   "execution_count": null,
   "id": "8e72dd85",
   "metadata": {},
   "outputs": [],
   "source": [
    "base['VP_INFOR'] = base['VP1']+base['VP2']\n",
    "base = pd.merge(base,\n",
    "                    base.groupby([\"COD_UPA\",\"NUM_DOM\",\"NUM_UC\"]).sum()[['VP_INFOR']], \n",
    "                    how = 'left',\n",
    "                    on=[\"COD_UPA\",\"NUM_DOM\",\"NUM_UC\"])\n",
    "base.set_axis([*base.columns[:-2], 'VP_INFOR', 'VP'], axis=1, inplace=True)"
   ]
  },
  {
   "cell_type": "markdown",
   "id": "98ca004c",
   "metadata": {},
   "source": [
    "### Despesa individual\n",
    "\n",
    "Para esse questionário seguiremos os passos anteriores considerando pagamento de tributos e os rendimentos não monetários."
   ]
  },
  {
   "cell_type": "code",
   "execution_count": null,
   "id": "4e4d2909",
   "metadata": {},
   "outputs": [],
   "source": [
    "DESPESA_INDIVIDUAL = pyreadr.read_r('./Dados/DESPESA_INDIVIDUAL.rds')\n",
    "DESPESA_INDIVIDUAL = DESPESA_INDIVIDUAL[None]"
   ]
  },
  {
   "cell_type": "markdown",
   "id": "9a93bff0",
   "metadata": {},
   "source": [
    "<table>\n",
    "  <tr>\n",
    "    <th>Código</th>\n",
    "    <th>Variável</th>\n",
    "  </tr>\n",
    "  <tr>\n",
    "    <td>V9001</td>\n",
    "    <td>Tipo de rendimento</td>\n",
    "  </tr>\n",
    "   <tr>\n",
    "    <td>V9002</td>\n",
    "    <td>Forma de aquisição</td>\n",
    "  </tr>\n",
    "  <tr>\n",
    "    <td>V8000_DEFLA</td>\n",
    "    <td>Valor deflacionado do gasto</td>\n",
    "  </tr>\n",
    "  <tr>\n",
    "    <td>V9011</td>\n",
    "    <td>Nº de meses em que o rendimento foi recebido</td>\n",
    "  </tr>\n",
    "   <tr>\n",
    "    <td>FATOR_ANUALIZACAO</td>\n",
    "    <td>Definido para as variáveis com a V9011 faltante</td>\n",
    "    </tr>\n",
    "</table>\n",
    "Notar que foi incluído `IRPF2` para cobrir o código `48031`, referente à complementação do IR e impostos referentes ao exercício anterior.\n"
   ]
  },
  {
   "cell_type": "code",
   "execution_count": null,
   "id": "0a83b1cb",
   "metadata": {},
   "outputs": [],
   "source": [
    "CONTRIBUICAO_PREVIDENCIARIA.update({'CONT_PREV_INDIVIDUAL':['48005','48037']})\n",
    "\n",
    "IPVA = ['50001','50002','50004','50005','50006','50007','50008','50014','50016','50017']\n",
    "\n",
    "OUTROS_DIRETOS = ['48004','48010','48011']"
   ]
  },
  {
   "cell_type": "code",
   "execution_count": null,
   "id": "65145515",
   "metadata": {},
   "outputs": [],
   "source": [
    "DESPESA_INDIVIDUAL = DESPESA_INDIVIDUAL.astype({\"V9001\": str},errors='ignore')\n",
    "DESPESA_INDIVIDUAL.loc[:,'V9001'] = DESPESA_INDIVIDUAL.loc[:,'V9001'].str.slice(0,5)\n",
    "DESPESA_INDIVIDUAL['V9011'].fillna(1, inplace = True)"
   ]
  },
  {
   "cell_type": "markdown",
   "id": "a3d46d78",
   "metadata": {},
   "source": [
    "Como esse questionário utiliza apenas o `FATOR_ANUALIZACAO`, sem a variável `V9011`, então podemos passar direto para a mensalização do gasto."
   ]
  },
  {
   "cell_type": "code",
   "execution_count": null,
   "id": "8639e3ef",
   "metadata": {},
   "outputs": [],
   "source": [
    "DESPESA_INDIVIDUAL.loc[:,\"V8000_DEFLA\"] = DESPESA_INDIVIDUAL[\"V8000_DEFLA\"]*DESPESA_INDIVIDUAL['V9011']*DESPESA_INDIVIDUAL['FATOR_ANUALIZACAO']/12"
   ]
  },
  {
   "cell_type": "markdown",
   "id": "2cdc06ff",
   "metadata": {},
   "source": [
    "Por fim, dado que essa será a única informação relevante desse questionário, faremos sua agregação apenas indicando a forma de aquição do bem, através da variável `V9002`."
   ]
  },
  {
   "cell_type": "code",
   "execution_count": null,
   "id": "5379198e",
   "metadata": {},
   "outputs": [],
   "source": [
    "i_individual = {\n",
    "    'CONT_PREV_INDIVIDUAL': DESPESA_INDIVIDUAL['V9001'].isin(CONTRIBUICAO_PREVIDENCIARIA['CONT_PREV_INDIVIDUAL']),\n",
    "    'IPVA': DESPESA_INDIVIDUAL['V9001'].isin(IPVA),\n",
    "    'OUT_DIR': DESPESA_INDIVIDUAL['V9001'].isin(OUTROS_DIRETOS),\n",
    "    'IRPF_IND': DESPESA_INDIVIDUAL['V9001'].isin(DEDUCOES['IRPF_TRA']),\n",
    "    'IMOVEL_OUTROS': DESPESA_INDIVIDUAL['V9001'].isin(IMOVEL),\n",
    "    'N_MONET_2': DESPESA_INDIVIDUAL['V9002'].isin(list(range(7,12)))\n",
    "}"
   ]
  },
  {
   "cell_type": "code",
   "execution_count": null,
   "id": "9ea688bb",
   "metadata": {},
   "outputs": [],
   "source": [
    "for indice in i_individual.values():\n",
    "    base = pd.merge(base,\n",
    "                    DESPESA_INDIVIDUAL[indice].groupby([\"COD_UPA\",\"NUM_DOM\",\"NUM_UC\"]).sum()['V8000_DEFLA'], \n",
    "                    how = 'left',\n",
    "                    on=[\"COD_UPA\",\"NUM_DOM\",\"NUM_UC\"])"
   ]
  },
  {
   "cell_type": "code",
   "execution_count": null,
   "id": "3f3fcc79",
   "metadata": {},
   "outputs": [],
   "source": [
    "base.set_axis([*base.columns[:base.shape[1]-len(i_individual.keys())], *list(i_individual.keys())], axis=1, inplace=True)"
   ]
  },
  {
   "cell_type": "markdown",
   "id": "496aacf1",
   "metadata": {},
   "source": [
    "### Caderneta coletiva\n",
    "\n",
    "No caso desse questinário, responsável exclusivamente pela mensuração dos gastos alimentares, vamos recuperar apenas informações da renda não monetária."
   ]
  },
  {
   "cell_type": "code",
   "execution_count": null,
   "id": "3fa2a9f1",
   "metadata": {},
   "outputs": [],
   "source": [
    "CADERNETA_COLETIVA = pyreadr.read_r('./Dados/CADERNETA_COLETIVA.rds')\n",
    "CADERNETA_COLETIVA = CADERNETA_COLETIVA[None]"
   ]
  },
  {
   "cell_type": "markdown",
   "id": "c768b97c",
   "metadata": {},
   "source": [
    "<table>\n",
    "  <tr>\n",
    "    <th>Código</th>\n",
    "    <th>Variável</th>\n",
    "  </tr>\n",
    "  <tr>\n",
    "    <td>V9001</td>\n",
    "    <td>Tipo de rendimento</td>\n",
    "  </tr>\n",
    "   <tr>\n",
    "    <td>V9002</td>\n",
    "    <td>Forma de aquisição</td>\n",
    "  </tr>\n",
    "  <tr>\n",
    "    <td>V8000_DEFLA</td>\n",
    "    <td>Valor da aquisição</td>\n",
    "  </tr>\n",
    "  <tr>\n",
    "    <td>V9011</td>\n",
    "    <td>Nº de meses em que o produto foi adquirido</td>\n",
    "  </tr>\n",
    "   <tr>\n",
    "    <td>FATOR_ANUALIZACAO</td>\n",
    "    <td>Definido para as variáveis com a V9011 faltante</td>\n",
    "    </tr>\n",
    "</table>\n",
    "Nessa base não será preciso criarmos a lista dos gastos de interesse, faremos apenas os ajustes das variáveis e poderemos computar a soma desses recebimentos."
   ]
  },
  {
   "cell_type": "code",
   "execution_count": null,
   "id": "60536666",
   "metadata": {},
   "outputs": [],
   "source": [
    "CADERNETA_COLETIVA = CADERNETA_COLETIVA.astype({\"V9001\": str},errors='ignore')\n",
    "CADERNETA_COLETIVA.loc[:,'V9001'] = CADERNETA_COLETIVA.loc[:,'V9001'].str.slice(0,5)"
   ]
  },
  {
   "cell_type": "markdown",
   "id": "e44d52c9",
   "metadata": {},
   "source": [
    "Como esse questionário utiliza apenas o `FATOR_ANUALIZACAO`, sem a variável `V9011`, então podemos passar direto para a mensalização do gasto."
   ]
  },
  {
   "cell_type": "code",
   "execution_count": null,
   "id": "887da889",
   "metadata": {},
   "outputs": [],
   "source": [
    "CADERNETA_COLETIVA.loc[:,\"V8000_DEFLA\"] = CADERNETA_COLETIVA[\"V8000_DEFLA\"]*CADERNETA_COLETIVA['FATOR_ANUALIZACAO']/12"
   ]
  },
  {
   "cell_type": "markdown",
   "id": "98979e7e",
   "metadata": {},
   "source": [
    "Por fim, dado que essa será a única informação relevante desse questionário, faremos sua agregação apenas indicando a forma de aquição do bem, através da variável `V9002`."
   ]
  },
  {
   "cell_type": "code",
   "execution_count": null,
   "id": "135d85cd",
   "metadata": {},
   "outputs": [],
   "source": [
    "base = pd.merge(base,\n",
    "                    CADERNETA_COLETIVA[CADERNETA_COLETIVA['V9002'].isin(list(range(7,12)))].groupby([\"COD_UPA\",\"NUM_DOM\",\"NUM_UC\"]).sum()['V8000_DEFLA'], \n",
    "                    how = 'left',\n",
    "                    on=[\"COD_UPA\",\"NUM_DOM\",\"NUM_UC\"])"
   ]
  },
  {
   "cell_type": "code",
   "execution_count": null,
   "id": "f9abe97b",
   "metadata": {},
   "outputs": [],
   "source": [
    "base.set_axis([*base.columns[:-1], 'N_MONET_3'], axis=1, inplace=True)"
   ]
  },
  {
   "cell_type": "markdown",
   "id": "74822e4d",
   "metadata": {},
   "source": [
    "### Aluguel estimado\n",
    "\n",
    "Esse questionário consiste na segunda parte do cálculo da renda não monetária conforme descrita no **Tradutor de rendimentos**. Ele é responsável por atribuir um valor de aluguel para as UC residentes em casa própria, ou sem que precisem arcar com o aluguel. Aqui é preciso identificarmos o total do *Alguel estimado* e subtrair os *serviços para domicílio* pagos em dinheiro pela UC."
   ]
  },
  {
   "cell_type": "code",
   "execution_count": null,
   "id": "97350f5a",
   "metadata": {},
   "outputs": [],
   "source": [
    "ALUGUEL_ESTIMADO = pyreadr.read_r('./Dados/ALUGUEL_ESTIMADO.rds')\n",
    "ALUGUEL_ESTIMADO = ALUGUEL_ESTIMADO[None]\n",
    "ALUGUEL_ESTIMADO['V9011'].fillna(1, inplace = True)"
   ]
  },
  {
   "cell_type": "markdown",
   "id": "a03069d0",
   "metadata": {},
   "source": [
    "<table>\n",
    "  <tr>\n",
    "    <th>Código</th>\n",
    "    <th>Variável</th>\n",
    "  </tr>\n",
    "  <tr>\n",
    "    <td>V8000_DEFLA</td>\n",
    "    <td>Valor da aquisição</td>\n",
    "  </tr>\n",
    "  <tr>\n",
    "    <td>V9011</td>\n",
    "    <td>Nº de meses em que o produto foi adquirido</td>\n",
    "  </tr>\n",
    "   <tr>\n",
    "    <td>FATOR_ANUALIZACAO</td>\n",
    "    <td>Definido para as variáveis com a V9011 faltante</td>\n",
    "    </tr>\n",
    "</table>\n",
    "Nesse questionário, apesar das variáveis `V9001` e `V9002` estarem presentes, cada uma apresenta um único valor. A primeira indica o código de rendimento `000101` (aluguel estimado), enquanto a segunda indica que a forma de aquisição foi `11` - Outra. Assim, novamente o processo de agregação será mais simples, apenas necessitando realizar a soma para cada UC."
   ]
  },
  {
   "cell_type": "code",
   "execution_count": null,
   "id": "2fc09f24",
   "metadata": {},
   "outputs": [],
   "source": [
    "ALUGUEL_ESTIMADO.loc[:,\"V8000_DEFLA\"] = ALUGUEL_ESTIMADO[\"V8000_DEFLA\"]*ALUGUEL_ESTIMADO[\"V9011\"]*ALUGUEL_ESTIMADO['FATOR_ANUALIZACAO']/12"
   ]
  },
  {
   "cell_type": "code",
   "execution_count": null,
   "id": "235d6b07",
   "metadata": {},
   "outputs": [],
   "source": [
    "base = pd.merge(base,\n",
    "                    ALUGUEL_ESTIMADO.groupby([\"COD_UPA\",\"NUM_DOM\",\"NUM_UC\"]).sum()['V8000_DEFLA'], \n",
    "                    how = 'left',\n",
    "                    on=[\"COD_UPA\",\"NUM_DOM\",\"NUM_UC\"])\n",
    "base.set_axis([*base.columns[:-1], 'ALUGUEL_EST_1'], axis=1, inplace=True)"
   ]
  },
  {
   "cell_type": "markdown",
   "id": "4f11154d",
   "metadata": {},
   "source": [
    "Na sequência será preciso retirar os gastos monetários do questionário de *Consumo coletivo* associados ao imóvel: *Quadro 8* - conservação, manutenção e pequenos reparos; *Quadro 10* - alugel, impostos e outras taxas; e *Quadro 12* - outros itens do domicílio. Teremos dois índices nesse caso, o primeiro para identificar esses gastos e o segundo para identificar quando a forma de aquisição envolveu gastos monetários."
   ]
  },
  {
   "cell_type": "code",
   "execution_count": null,
   "id": "c74a4254",
   "metadata": {},
   "outputs": [],
   "source": [
    "i_ALUGUEL_EST_1 = DESPESA_COLETIVA['V9001'].isin(list(map(str,[*list(range(80010,80242)),*list(range(80260,80681)),89990,10006,10011,*list(range(12005,12009)),*list(range(12010,12016)),*list(range(12017,12021)),*list(range(12023,12026)),*list(range(12027,12037)),12999])))\n",
    "i_ALUGUEL_EST_2 = DESPESA_COLETIVA['V9002'].isin(list(range(1,7)))"
   ]
  },
  {
   "cell_type": "code",
   "execution_count": null,
   "id": "8ced77be",
   "metadata": {},
   "outputs": [],
   "source": [
    "base = pd.merge(base,\n",
    "                    DESPESA_COLETIVA[i_ALUGUEL_EST_1 & i_ALUGUEL_EST_2].groupby([\"COD_UPA\",\"NUM_DOM\",\"NUM_UC\"]).sum()['V8000_DEFLA'], \n",
    "                    how = 'left',\n",
    "                    on=[\"COD_UPA\",\"NUM_DOM\",\"NUM_UC\"])"
   ]
  },
  {
   "cell_type": "code",
   "execution_count": null,
   "id": "0802a1ba",
   "metadata": {},
   "outputs": [],
   "source": [
    "base.set_axis([*base.columns[:-1], 'ALUGUEL_EST_2'], axis=1, inplace=True)"
   ]
  },
  {
   "cell_type": "markdown",
   "id": "7d8bb805",
   "metadata": {},
   "source": [
    "Agora vamos consolidar as informações do aluguel estimado que agregamos acima."
   ]
  },
  {
   "cell_type": "code",
   "execution_count": null,
   "id": "43af5469",
   "metadata": {},
   "outputs": [],
   "source": [
    "base.fillna(0, inplace = True)\n",
    "base['ALUGUEL_EST'] = base['ALUGUEL_EST_1'] - base['ALUGUEL_EST_2']\n",
    "base.loc[base['ALUGUEL_EST']<0, 'ALUGUEL_EST'] = 0"
   ]
  },
  {
   "cell_type": "markdown",
   "id": "0657244d",
   "metadata": {},
   "source": [
    "### Serviços não monetários\n",
    "\n",
    "Os últimos questionários que vamos utilizar referem-se aos serviços não monetários, uma novidade da POF 2017-2018. Esses questionários destinam-se à compreensão do recebimento de serviços não monetários de educação e saúde. Faremos a agregação das informações de cada um dos questionários para composição da renda não monetária."
   ]
  },
  {
   "cell_type": "code",
   "execution_count": null,
   "id": "0352975f",
   "metadata": {},
   "outputs": [],
   "source": [
    "SERVICO_NAO_MONETARIO_POF2 = pyreadr.read_r('./Dados/SERVICO_NAO_MONETARIO_POF2.rds')\n",
    "SERVICO_NAO_MONETARIO_POF2 = SERVICO_NAO_MONETARIO_POF2[None]\n",
    "SERVICO_NAO_MONETARIO_POF2['V9011'].fillna(1, inplace = True)"
   ]
  },
  {
   "cell_type": "code",
   "execution_count": null,
   "id": "a991be47",
   "metadata": {},
   "outputs": [],
   "source": [
    "SERVICO_NAO_MONETARIO_POF2.loc[:,\"V8000_DEFLA\"] = SERVICO_NAO_MONETARIO_POF2[\"V8000_DEFLA\"]*SERVICO_NAO_MONETARIO_POF2[\"V9011\"]*SERVICO_NAO_MONETARIO_POF2['FATOR_ANUALIZACAO']/12"
   ]
  },
  {
   "cell_type": "code",
   "execution_count": null,
   "id": "b6719a6d",
   "metadata": {},
   "outputs": [],
   "source": [
    "base = pd.merge(base,\n",
    "                    SERVICO_NAO_MONETARIO_POF2.groupby([\"COD_UPA\",\"NUM_DOM\",\"NUM_UC\"]).sum()['V8000_DEFLA'], \n",
    "                    how = 'left',\n",
    "                    on=[\"COD_UPA\",\"NUM_DOM\",\"NUM_UC\"])\n",
    "base.set_axis([*base.columns[:-1], 'N_MONET_4'], axis=1, inplace=True)"
   ]
  },
  {
   "cell_type": "code",
   "execution_count": null,
   "id": "8d33fe58",
   "metadata": {},
   "outputs": [],
   "source": [
    "SERVICO_NAO_MONETARIO_POF4 = pyreadr.read_r('./Dados/SERVICO_NAO_MONETARIO_POF4.rds')\n",
    "SERVICO_NAO_MONETARIO_POF4 = SERVICO_NAO_MONETARIO_POF4[None]\n",
    "SERVICO_NAO_MONETARIO_POF4['V9011'].fillna(1, inplace = True)"
   ]
  },
  {
   "cell_type": "code",
   "execution_count": null,
   "id": "1387789e",
   "metadata": {},
   "outputs": [],
   "source": [
    "SERVICO_NAO_MONETARIO_POF4.loc[:,\"V8000_DEFLA\"] = SERVICO_NAO_MONETARIO_POF4[\"V8000_DEFLA\"]*SERVICO_NAO_MONETARIO_POF4[\"V9011\"]*SERVICO_NAO_MONETARIO_POF4['FATOR_ANUALIZACAO']/12"
   ]
  },
  {
   "cell_type": "code",
   "execution_count": null,
   "id": "4f076927",
   "metadata": {},
   "outputs": [],
   "source": [
    "base = pd.merge(base,\n",
    "                    SERVICO_NAO_MONETARIO_POF4.groupby([\"COD_UPA\",\"NUM_DOM\",\"NUM_UC\"]).sum()['V8000_DEFLA'], \n",
    "                    how = 'left',\n",
    "                    on=[\"COD_UPA\",\"NUM_DOM\",\"NUM_UC\"])\n",
    "base.set_axis([*base.columns[:-1], 'N_MONET_5'], axis=1, inplace=True)"
   ]
  },
  {
   "cell_type": "markdown",
   "id": "3de76b6b",
   "metadata": {},
   "source": [
    "### Ajustes finais\n",
    "\n",
    "#### Durezas da pesquisa\n",
    "\n",
    "O primeiro dos ajustes finais é daqueles típicos dos problemas de pesquisa que só é possível descobrir fazendo. Trata-se do fato de uma das famílias aparecer com renda zero, mas uma cobrança de impostos sobre imóveis não nula, fazendo com que sua participação na amostra distorça os resultados."
   ]
  },
  {
   "cell_type": "code",
   "execution_count": null,
   "id": "0c32ba79",
   "metadata": {},
   "outputs": [],
   "source": [
    "base.loc[(base['COD_UPA']==330102475) & (base['NUM_DOM']==8) & (base['NUM_UC']==2),'IMOVEL'] = 0\n",
    "base.loc[(base['COD_UPA']==330102475) & (base['NUM_DOM']==8) & (base['NUM_UC']==2),'IMOVEL_OUTROS'] = 0"
   ]
  },
  {
   "cell_type": "markdown",
   "id": "03047a30",
   "metadata": {},
   "source": [
    "### Composição da Unidade de Consumo\n",
    "\n",
    "Agora vamos obter número de integrantes de cada *Unidade de Consumo*. Repare que para isso utilizaremos o tamanho do vetor formado pela variável *código do informante* de cada *UC*. Antes, será preciso retirarmos da amostra os integrantes da UC que são empregados domésticos ou parentes de empregados domésticos, identificados pelos valores `18:19` pela variável `V0306`, que indica a `Condição na Unidade de Consumo`."
   ]
  },
  {
   "cell_type": "code",
   "execution_count": null,
   "id": "bbbf3301",
   "metadata": {},
   "outputs": [],
   "source": [
    "base.loc[base['V0306'].isin([18,19]),'COD_INFORMANTE'] = np.NaN"
   ]
  },
  {
   "cell_type": "code",
   "execution_count": null,
   "id": "c3588c64",
   "metadata": {},
   "outputs": [],
   "source": [
    "base = pd.merge(base,\n",
    "                    base[pd.notna(base['COD_INFORMANTE'])].groupby([\"COD_UPA\",\"NUM_DOM\",\"NUM_UC\"]).count()['COD_INFORMANTE'], \n",
    "                    how = 'left',\n",
    "                    on=[\"COD_UPA\",\"NUM_DOM\",\"NUM_UC\"])\n",
    "base.rename(columns={'COD_INFORMANTE_x':'COD_INFORMANTE'}, inplace = True)\n",
    "base.set_axis([*base.columns[:-1], 'N_Pessoas'], axis=1, inplace=True)"
   ]
  },
  {
   "cell_type": "markdown",
   "id": "17627437",
   "metadata": {},
   "source": [
    "Agora vamos adicionar a soma do peso das observações de cada indivíduo que compõem as UC. Com isso teremos uma variável indicando quantas pessoas aquela unidade de consumo representa conjuntamente, excluindo novamente empregados domésticos e seus parentes"
   ]
  },
  {
   "cell_type": "code",
   "execution_count": null,
   "id": "30b09746",
   "metadata": {},
   "outputs": [],
   "source": [
    "base = pd.merge(base,\n",
    "                    base[pd.notna(base['COD_INFORMANTE'])].groupby([\"COD_UPA\",\"NUM_DOM\",\"NUM_UC\"]).sum()['PESO_FINAL'], \n",
    "                    how = 'left',\n",
    "                    on=[\"COD_UPA\",\"NUM_DOM\",\"NUM_UC\"])\n",
    "base.set_axis([*base.columns[:-1], 'PESO_UC'], axis=1, inplace=True)"
   ]
  },
  {
   "cell_type": "markdown",
   "id": "3d100f4b",
   "metadata": {},
   "source": [
    "### Renda não monetária\n",
    "\n",
    "A partir do tamanho das famílias, vamos construir a renda não monetária per capita da família."
   ]
  },
  {
   "cell_type": "code",
   "execution_count": null,
   "id": "53590e72",
   "metadata": {},
   "outputs": [],
   "source": [
    "base.fillna(0, inplace=True)"
   ]
  },
  {
   "cell_type": "code",
   "execution_count": null,
   "id": "61858656",
   "metadata": {},
   "outputs": [],
   "source": [
    "base['RENDA_N_M'] = base['N_MONET_1']+base['N_MONET_2']+base['N_MONET_3']+base['ALUGUEL_EST']+base['N_MONET_4']+base['N_MONET_5']\n",
    "base[base['V0306'].isin([18,19])] = 0\n",
    "base['RENDA_N_M_PC'] = base['RENDA_N_M']/base['N_Pessoas']"
   ]
  },
  {
   "cell_type": "markdown",
   "id": "6eba4de9",
   "metadata": {},
   "source": [
    "### Renda monetária\n",
    "\n",
    "Agora vamos agregar a renda monetária de todos os informantes da UC, a fim de criarmos uma variável para a renda monetária per capita. Faremos isso em duas etapas, na primeira agregaremos o total de cada um dos rendimentos dentro da família, na sequência vamos somar todos esses rendimentos na variável `RENDA_MONET_UC` e fazer a junção com a nossa base."
   ]
  },
  {
   "cell_type": "code",
   "execution_count": null,
   "id": "157c4290",
   "metadata": {},
   "outputs": [],
   "source": [
    "RENDA_MONET_UC = pd.DataFrame(base[~(base['V0306'].isin([18,19]))].groupby([\"COD_UPA\",\"NUM_DOM\",\"NUM_UC\"]).sum().iloc[:,list(range(61,74))])\n",
    "RENDA_MONET_UC.reset_index(inplace=True)"
   ]
  },
  {
   "cell_type": "code",
   "execution_count": null,
   "id": "3752f9ce",
   "metadata": {},
   "outputs": [],
   "source": [
    "RENDA_MONET_UC['RENDA_MONET_UC'] = RENDA_MONET_UC.drop(RENDA_MONET_UC.columns[list(range(0,3))],axis=1).sum(axis=1)"
   ]
  },
  {
   "cell_type": "code",
   "execution_count": null,
   "id": "c8d1fb1e",
   "metadata": {},
   "outputs": [],
   "source": [
    "base = pd.merge(base,\n",
    "                    RENDA_MONET_UC[[\"COD_UPA\",\"NUM_DOM\",\"NUM_UC\",\"RENDA_MONET_UC\"]], \n",
    "                    how = 'left',\n",
    "                    on=[\"COD_UPA\",\"NUM_DOM\",\"NUM_UC\"])"
   ]
  },
  {
   "cell_type": "code",
   "execution_count": null,
   "id": "78cc8534",
   "metadata": {},
   "outputs": [],
   "source": [
    "base[base['V0306'].isin([18,19])]['RENDA_MONET_UC'] = 0"
   ]
  },
  {
   "cell_type": "code",
   "execution_count": null,
   "id": "b6e4483c",
   "metadata": {},
   "outputs": [],
   "source": [
    "base['RENDA_M_PC'] = base['RENDA_MONET_UC']/base['N_Pessoas']"
   ]
  },
  {
   "cell_type": "markdown",
   "id": "a09a895d",
   "metadata": {},
   "source": [
    "Na sequência faremos algo similar, mas ao invés de somarmos a renda de toda a UC, vamos considerar apenas a renda do informante."
   ]
  },
  {
   "cell_type": "code",
   "execution_count": null,
   "id": "d31ed5b9",
   "metadata": {},
   "outputs": [],
   "source": [
    "base['RENDA_M_INFOR'] = base.iloc[:,list(range(64,77))].sum(axis=1)"
   ]
  },
  {
   "cell_type": "markdown",
   "id": "e74b4732",
   "metadata": {},
   "source": [
    "### Ajuste de variáveis\n",
    "\n",
    "Agora vamos unificar variáveis, para manter apenas as informações mais relevantes de cada uma delas."
   ]
  },
  {
   "cell_type": "code",
   "execution_count": null,
   "id": "259290bb",
   "metadata": {},
   "outputs": [],
   "source": [
    "base['TRABALHO'] = base['TRABALHO_1'] + base['TRABALHO_2']\n",
    "base.drop(['TRABALHO_1','TRABALHO_2'], axis = 1, inplace=True)\n",
    "\n",
    "base['IRPF'] = base['IRPF_TRA']+base['IRPF_IND']\n",
    "base.drop(['IRPF_TRA','IRPF_IND'], axis = 1, inplace=True)\n",
    "\n",
    "base['CONTR_PREVI'] = base['CONT_PREV_INDIVIDUAL']+base['CONT_PREV_TRA']\n",
    "base.drop(['CONT_PREV_INDIVIDUAL','CONT_PREV_TRA'], axis = 1, inplace=True)\n",
    "\n",
    "base['IMOVEL'] = base['IMOVEL']+base['IMOVEL_OUTROS']\n",
    "base.drop(['IMOVEL_OUTROS'], axis = 1, inplace=True)"
   ]
  },
  {
   "cell_type": "code",
   "execution_count": null,
   "id": "6d41f727",
   "metadata": {},
   "outputs": [],
   "source": [
    "base = base.iloc[:,[*list(range(0,59)),*list(range(60,74)),77,*list(range(78,80)),84,*list(range(87,len(base.columns)))]] "
   ]
  },
  {
   "cell_type": "markdown",
   "id": "ab21a51f",
   "metadata": {},
   "source": [
    "### Per capitalizar tributos e rendimentos\n",
    "\n",
    "Na sequência dividimos todos os impostos e os rendimentos pelo número de moradores da casa e, por fim, anexamos todas as nossas informações na base de indivíduos. Repare que a per capitalização é feita dentro do ciclo, no qual selecionamos a coluna da variável desejada e dividimos pelo número de pessoas da UC."
   ]
  },
  {
   "cell_type": "code",
   "execution_count": null,
   "id": "c434fc62",
   "metadata": {},
   "outputs": [],
   "source": [
    "tributos = [\"CONT_PREV_EMP\", \n",
    "              \"DEDUCOES_TRABALHO\", \n",
    "              \"DEDUCOES_N_T\", \n",
    "              \"CONTR_PREVI\", \n",
    "              \"IPVA\", \n",
    "              \"OUT_DIR\", \n",
    "              \"IRPF\", \n",
    "              \"IMOVEL\"]\n",
    "\n",
    "for t in tributos:\n",
    "    base['tributo.pc'] = base[t]/base['N_Pessoas']\n",
    "    base.set_axis([*base.columns[:-1], str(t+'_PC')], axis=1, inplace=True)"
   ]
  },
  {
   "cell_type": "code",
   "execution_count": null,
   "id": "3f3cf586",
   "metadata": {},
   "outputs": [],
   "source": [
    "rendimentos = [\"RGPS_T\",\n",
    "                 \"RPPS_T\",\n",
    "                 \"AUXI_PUB_T\",\n",
    "                 \"AUX_MIS_T\",\n",
    "                 \"PBF_T\",\n",
    "                 \"BPC_T\",\n",
    "                 \"BOL_EST_T\",\n",
    "                 \"SEG_DES_T\",\n",
    "                 \"ALUGUEL\",\n",
    "                 \"OUTRAS_RENDAS\",\n",
    "                 \"OUTRAS_TRANSFERENCIAS_T\",\n",
    "                 \"TRABALHO\",\n",
    "                 \"VP\"]\n",
    "for r in rendimentos:\n",
    "    aux_rendimentos=pd.merge(base[[\"COD_UPA\",\"NUM_DOM\",\"NUM_UC\",\"N_Pessoas\"]],\n",
    "                    pd.DataFrame(base[~(base['V0306'].isin([18,19]))].groupby([\"COD_UPA\",\"NUM_DOM\",\"NUM_UC\"]).sum().loc[:,r]), \n",
    "                    how = 'left',\n",
    "                    on=[\"COD_UPA\",\"NUM_DOM\",\"NUM_UC\"])\n",
    "    base['rendimento.pc'] = aux_rendimentos[r]/aux_rendimentos['N_Pessoas']\n",
    "    base.set_axis([*base.columns[:-1], str(r+'_PC')], axis=1, inplace=True)"
   ]
  },
  {
   "cell_type": "markdown",
   "id": "9d9f61ac",
   "metadata": {},
   "source": [
    "Por fim, para além de todas as informações já coletadas, também vamos coletar no questionário de Rendimentos do Trabalho as informações a respeito da chamada `posição na ocupação`, ou seja, se a pessoa era empregada do setor público ou privado, empregadora, trabalhadora doméstica, militar, conta própria ou tinha um trabalho não remunerado junto a outro parente. Essas informações são fornecidas pela variável `V5302`. Note que é preciso recortar a base `RENDIMENTO_TRABALHO` para que ela reporte apenas as informações referentes ao trabalho principal, através da variável `SUB_QUADRO`.\n"
   ]
  },
  {
   "cell_type": "code",
   "execution_count": null,
   "id": "5efce214",
   "metadata": {},
   "outputs": [],
   "source": [
    "base = pd.merge(base,\n",
    "                    RENDIMENTO_TRABALHO[RENDIMENTO_TRABALHO['SUB_QUADRO']==1][[\"COD_UPA\",\"NUM_DOM\",\"NUM_UC\",\"COD_INFORMANTE\", \"V5302\"]], \n",
    "                    how = 'left',\n",
    "                    on=[\"COD_UPA\",\"NUM_DOM\",\"NUM_UC\", \"COD_INFORMANTE\"])\n",
    "base.set_axis([*base.columns[:-1], 'PosiOcup'], axis=1, inplace=True)\n",
    "base['PosiOcup'].fillna(0,inplace=True)"
   ]
  },
  {
   "cell_type": "code",
   "execution_count": null,
   "id": "625b4fdc",
   "metadata": {},
   "outputs": [],
   "source": [
    "base.rename(columns={'PESO_FINAL_x':'PESO_FINAL'},inplace=True)"
   ]
  },
  {
   "cell_type": "markdown",
   "id": "4a46f796",
   "metadata": {},
   "source": [
    "### Salvar\n",
    "\n",
    "Finalmente."
   ]
  },
  {
   "cell_type": "code",
   "execution_count": null,
   "id": "0a5802cf",
   "metadata": {},
   "outputs": [],
   "source": [
    "base.to_csv('POF_Teste_v1.csv',index=False)"
   ]
  },
  {
   "cell_type": "markdown",
   "id": "c0cf4816",
   "metadata": {},
   "source": [
    "# Exercícios\n",
    "\n",
    "**1)** De que maneira poderíamos adaptar o *ciclo* de geração de variáveis, por exemplo para o qustionário de *Despesas Coletivas*, para que o nome delas não precisasse ser estabelecido fora dele?\n",
    "\n",
    "\n",
    "**2)** Note a diferença entre os `# Índices` construídos para o questionário de *Despesas coletivas* e *Outros rendimentos*. De que maneira isso altera o uso do índice dentro do ciclo?\n",
    "\n",
    "**3)** Vamos trabalhar com a conferência das rendas *monetária* e *não monetária* geradas ao longo do tutorial com aquelas reportadas pelo IBGE.\n",
    "\n",
    "a.  Faça a divisão da soma dos rendimentos da nossa base pela soma dos rendimentos indicados na base `MORADOR`, considerando o peso de cada indivíduo.\n",
    "\n",
    "**4)** Faça agora a comparação da `RENDA_TOTAL` com os componentes dela que temos (renda monetária, não monetária e variação patrimonial). Note que ela está na base `MORADOR` ainda somada para toda a UC, sendo necessário dividí-la pela nossa variável de número de pessoas na UC. Você consegue pensar uma forma de reduzir a diferença entre elas?\n",
    "\n"
   ]
  }
 ],
 "metadata": {
  "kernelspec": {
   "display_name": "Python 3",
   "language": "python",
   "name": "python3"
  },
  "language_info": {
   "codemirror_mode": {
    "name": "ipython",
    "version": 3
   },
   "file_extension": ".py",
   "mimetype": "text/x-python",
   "name": "python",
   "nbconvert_exporter": "python",
   "pygments_lexer": "ipython3",
   "version": "3.8.8"
  }
 },
 "nbformat": 4,
 "nbformat_minor": 5
}
