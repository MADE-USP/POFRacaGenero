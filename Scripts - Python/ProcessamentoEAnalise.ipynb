{
 "cells": [
  {
   "cell_type": "markdown",
   "id": "22cc9357",
   "metadata": {},
   "source": [
    "# Sistema Tributário: Uma Análise Interseccional"
   ]
  },
  {
   "cell_type": "markdown",
   "id": "232a545f",
   "metadata": {},
   "source": [
    "Este notebook tem como objetivo realizar uma análise exploratória dos dados compilados a partir da Pesquisa de Orçamento Familiar(POF).\n",
    "Os gráficos e análises compiladadas aqui foram utilizados na escrita da NPE XX."
   ]
  },
  {
   "cell_type": "markdown",
   "id": "1fd96a50",
   "metadata": {},
   "source": [
    "## Passos preliminares"
   ]
  },
  {
   "cell_type": "code",
   "execution_count": null,
   "id": "7154835d",
   "metadata": {},
   "outputs": [],
   "source": [
    "'''\n",
    "Importando as bibliotecas de visualização e manipulação de dados. Além disso, também importamos algumas funções da biblioteca\n",
    "wquantiles, as quais serão utilizadas para encontrar valores de percentis nas distribuições trabalhadas aqui.\n",
    "'''\n",
    "import pandas as pd\n",
    "import numpy as np\n",
    "from wquantiles import quantile_1D, quantile\n",
    "import seaborn as sns\n",
    "import matplotlib.pyplot as plt"
   ]
  },
  {
   "cell_type": "code",
   "execution_count": null,
   "id": "b5a435d1",
   "metadata": {},
   "outputs": [],
   "source": [
    "import os\n",
    "os.chdir('Insira/aqui/seu/diretório/de/trabalho')"
   ]
  },
  {
   "cell_type": "code",
   "execution_count": null,
   "id": "28d8dd4a",
   "metadata": {},
   "outputs": [],
   "source": [
    "np.seterr(all=\"ignore\")"
   ]
  },
  {
   "cell_type": "code",
   "execution_count": null,
   "id": "6f8f620c",
   "metadata": {},
   "outputs": [],
   "source": [
    "# Colocando duas casas decimais como padrão de visualização\n",
    "pd.set_option('display.float_format', lambda x: '%.10f' % x)"
   ]
  },
  {
   "cell_type": "code",
   "execution_count": null,
   "id": "332cd13b",
   "metadata": {},
   "outputs": [],
   "source": [
    "colors = [\"#45ff66\", \"#eb52ff\", \"#3366ff\",\"#feff41\",\"#ffab4d\",\"#ff7276\",\"#00b9e3\",\"#8969d3\", \"#89A577\"]\n",
    "sns.set_palette(sns.color_palette(colors))"
   ]
  },
  {
   "cell_type": "markdown",
   "id": "eae209c3",
   "metadata": {},
   "source": [
    "Primeiro, importamos a base de dados e criamos uma variável de renda per capita, utilizando as variáveis de Renda Total da unidade de consumo e número de pessoas da mesma."
   ]
  },
  {
   "cell_type": "code",
   "execution_count": null,
   "id": "310352a4",
   "metadata": {},
   "outputs": [],
   "source": [
    "pof = pd.read_csv('POFMade2106.csv')"
   ]
  },
  {
   "cell_type": "code",
   "execution_count": null,
   "id": "a0536c73",
   "metadata": {},
   "outputs": [],
   "source": [
    "pof['RENDA_TOTAL_PC'] = pof['RENDA_TOTAL']/pof['N_Pessoas']"
   ]
  },
  {
   "cell_type": "markdown",
   "id": "b8581071",
   "metadata": {},
   "source": [
    "A variável V0306 indica se é ou não a pessoa de referência, assim, ao filtrarmos por ela, podemos obter uma POF baseada na pessoa de referência/família"
   ]
  },
  {
   "cell_type": "code",
   "execution_count": null,
   "id": "9c3addce",
   "metadata": {},
   "outputs": [],
   "source": [
    "pof_familia = pof[pof['V0306']==1]"
   ]
  },
  {
   "cell_type": "markdown",
   "id": "576a395a",
   "metadata": {},
   "source": [
    "Em seguida, definimos algumas variáveis auxiliares que serão úteis ao longo da exploração dos dados."
   ]
  },
  {
   "cell_type": "code",
   "execution_count": null,
   "id": "af50956a",
   "metadata": {},
   "outputs": [],
   "source": [
    "generos = {1: 'H', 2: 'M'}\n",
    "racas = {'B': [1], 'N': [2,4]}"
   ]
  },
  {
   "cell_type": "code",
   "execution_count": null,
   "id": "26eaf869",
   "metadata": {},
   "outputs": [],
   "source": [
    "impostos = [\"IMOVEL_PC\", \"CONTR_PREVI_PC\", \"CONT_PREV_EMP_PC\", \"DEDUCOES_TRABALHO_PC\", \"DEDUCOES_N_T_PC\", \"IRPF_PC\", \"IPVA_PC\", \"OUT_DIR_PC\"]"
   ]
  },
  {
   "cell_type": "code",
   "execution_count": null,
   "id": "c7fcbe13",
   "metadata": {},
   "outputs": [],
   "source": [
    "transferencias = ['RGPS_T_PC','RPPS_T_PC','AUXI_PUB_T_PC','AUX_MIS_T_PC','PBF_T_PC','BPC_T_PC','BOL_EST_T_PC','SEG_DES_T_PC','OUTRAS_TRANSFERENCIAS_T_PC']"
   ]
  },
  {
   "cell_type": "code",
   "execution_count": null,
   "id": "8e4c9ec8",
   "metadata": {},
   "outputs": [],
   "source": [
    "vetor_show = [\"0-50\", \"50-90\", \"90-99\", \"99-100\"]"
   ]
  },
  {
   "cell_type": "code",
   "execution_count": null,
   "id": "2ab8b2d7",
   "metadata": {},
   "outputs": [],
   "source": [
    "lista_10_11 = ['0-10','10-20','20-30','30-40','40-50','50-60','60-70','70-80','80-90','90-99','99-100']"
   ]
  },
  {
   "cell_type": "markdown",
   "id": "66a9520b",
   "metadata": {},
   "source": [
    "Em seguida, criamos 4 novas variáveis dentro de nossa base de dados:\n",
    "<ul>\n",
    "    <li> Impostos_PC, a qual reúne todos os impostos(que já estavam per capitalizados) </li>\n",
    "    <li> Transferencias_PC, a qual reúne todos as transferências(que já estavam per capitalizados) </li>\n",
    "    <li> Impostos_Incidencia, a qual contém a incidência dos impostos sobre a renda total </li>\n",
    "    <li> Transferencias_Part, a qual contém a participação das transferências sobre a renda total </li>\n",
    "</ul>"
   ]
  },
  {
   "cell_type": "code",
   "execution_count": null,
   "id": "fb33274e",
   "metadata": {},
   "outputs": [],
   "source": [
    "pof['Impostos_PC'] = pof[impostos].sum(axis=1)\n",
    "pof['Transferencias_PC'] = pof[transferencias].sum(axis=1)"
   ]
  },
  {
   "cell_type": "code",
   "execution_count": null,
   "id": "3e7ea388",
   "metadata": {},
   "outputs": [],
   "source": [
    "pof['Impostos_Incidencia'] = (pof['Impostos_PC']/pof['RENDA_TOTAL_PC'])*100"
   ]
  },
  {
   "cell_type": "code",
   "execution_count": null,
   "id": "50332c72",
   "metadata": {},
   "outputs": [],
   "source": [
    "pof['Transferencia_Part'] = (pof['Transferencias_PC']/pof['RENDA_TOTAL_PC'])*100"
   ]
  },
  {
   "cell_type": "markdown",
   "id": "2d743df1",
   "metadata": {},
   "source": [
    "As células a seguir contém duas funções auxiliares e a criação de uma lista contendo estratos de renda selecionados, os quais serão utilizados ao longo da análise."
   ]
  },
  {
   "cell_type": "code",
   "execution_count": null,
   "id": "ea7204cf",
   "metadata": {},
   "outputs": [],
   "source": [
    "def decis(quantis, pesos):\n",
    "    lista_decis = []\n",
    "    vetor_decis = [i/10 for i in range(1,10)]\n",
    "    for i in vetor_decis:\n",
    "        lista_decis.append(quantile_1D(quantis,pesos,i))\n",
    "    return lista_decis\n",
    "quantis_pc = pof['RENDA_TOTAL_PC'].to_numpy()\n",
    "pesos = pof['PESO_FINAL'].to_numpy()\n",
    "decis_pc = [min(quantis_pc)]\n",
    "decis_pc.extend(decis(quantis_pc, pesos))\n",
    "decis_pc.append(quantile_1D(quantis_pc,pesos,0.99))\n",
    "decis_pc.append(max(quantis_pc))"
   ]
  },
  {
   "cell_type": "code",
   "execution_count": null,
   "id": "37f43568",
   "metadata": {},
   "outputs": [],
   "source": [
    "quantile_1D(quantis_pc,pesos,0.99)"
   ]
  },
  {
   "cell_type": "code",
   "execution_count": null,
   "id": "68c3711f",
   "metadata": {},
   "outputs": [],
   "source": [
    "def mediana_40_1(quantis, pesos):\n",
    "    lista_decis = []\n",
    "    vetor_decis = [0.5,0.9,0.99]\n",
    "    for i in vetor_decis:\n",
    "        lista_decis.append(quantile_1D(quantis,pesos,i))\n",
    "    return lista_decis\n",
    "quantis_pc = pof['RENDA_TOTAL_PC'].to_numpy()\n",
    "pesos = pof['PESO_FINAL'].to_numpy()\n",
    "lista_50_40_1 = [min(quantis_pc)]\n",
    "lista_50_40_1.extend(mediana_40_1(quantis_pc, pesos))\n",
    "lista_50_40_1.append(max(quantis_pc))"
   ]
  },
  {
   "cell_type": "code",
   "execution_count": null,
   "id": "a9d82d41",
   "metadata": {},
   "outputs": [],
   "source": [
    "lista_50_40_1"
   ]
  },
  {
   "cell_type": "markdown",
   "id": "50a6ae5e",
   "metadata": {},
   "source": [
    "Nas células a seguir, definimos algumas funções auxiliares para geração de intervalos de confiança."
   ]
  },
  {
   "cell_type": "code",
   "execution_count": null,
   "id": "d92290ae",
   "metadata": {},
   "outputs": [],
   "source": [
    "def ajustes_esteticos(df):\n",
    "    df['Deduções de Trabalho'] = df['DEDUCOES_TRABALHO_PC'] + df['DEDUCOES_N_T_PC']\n",
    "    df.drop('DEDUCOES_TRABALHO_PC', inplace = True, axis = 1)\n",
    "    df.drop('DEDUCOES_N_T_PC', inplace = True, axis = 1)\n",
    "    df['Outros Diretos'] = df['CONT_PREV_EMP_PC'] + df['OUT_DIR_PC']\n",
    "    df.drop('CONT_PREV_EMP_PC', inplace = True, axis = 1)\n",
    "    df.drop('OUT_DIR_PC', inplace = True, axis = 1)\n",
    "    df.rename(columns = {'CONTR_PREVI_PC':'Contribuição Previdenciária', 'IRPF_PC':'IRPF', 'IMOVEL_PC': 'Impostos sobre Imóveis', 'IPVA_PC': 'IPVA'}, inplace = True)\n",
    "    return df"
   ]
  },
  {
   "cell_type": "code",
   "execution_count": null,
   "id": "062538d8",
   "metadata": {},
   "outputs": [],
   "source": [
    "def ic_95(data):\n",
    "    ic = 1.96*data['Impostos_Incidencia'].std()/(data.shape[0]**(1/2))\n",
    "    mean = data['Impostos_Incidencia'].mean()\n",
    "    return ic"
   ]
  },
  {
   "cell_type": "code",
   "execution_count": null,
   "id": "e309d554",
   "metadata": {},
   "outputs": [],
   "source": [
    "def ic_95_t(data):\n",
    "    ic = 1.96*data['Transferencia_Part'].std()/(data.shape[0]**(1/2))\n",
    "    mean = data['Transferencia_Part'].mean()\n",
    "    return ic"
   ]
  },
  {
   "cell_type": "code",
   "execution_count": null,
   "id": "a25cf24f",
   "metadata": {},
   "outputs": [],
   "source": [
    "def gerar_inter(raca,genero):\n",
    "    ics=[]\n",
    "    for i in range(len(lista_50_40_1)):\n",
    "        if i != 0 and i != len(lista_50_40_1):\n",
    "            ics.append(ic_95(pof[(pof['RENDA_TOTAL_PC']>=lista_50_40_1[i-1]) & (pof['RENDA_TOTAL_PC']<=lista_50_40_1[i]) & (pof['V0405'].isin(racas[raca])) & (pof['V0404'] == genero)]))\n",
    "    return ics"
   ]
  },
  {
   "cell_type": "code",
   "execution_count": null,
   "id": "991bfb17",
   "metadata": {},
   "outputs": [],
   "source": [
    "def gerar_inter_t(raca,genero):\n",
    "    ics=[]\n",
    "    for i in range(len(lista_50_40_1)):\n",
    "        if i != 0 and i != len(lista_50_40_1):\n",
    "            ics.append(ic_95_t(pof[(pof['RENDA_TOTAL_PC']>=lista_50_40_1[i-1]) & (pof['RENDA_TOTAL_PC']<=lista_50_40_1[i]) & (pof['V0405'].isin(racas[raca])) & (pof['V0404'] == genero)]))\n",
    "    return ics"
   ]
  },
  {
   "cell_type": "markdown",
   "id": "2a274a35",
   "metadata": {},
   "source": [
    "## Composição dos estratos de renda nos diferentes subconjuntos da POF"
   ]
  },
  {
   "cell_type": "code",
   "execution_count": null,
   "id": "50a24076",
   "metadata": {},
   "outputs": [],
   "source": [
    "tabela_demografica = dict()\n",
    "for genero in list(generos.keys()):\n",
    "    for raca in list(racas.values()):\n",
    "        tabela_demografica[list(racas.keys())[list(racas.values()).index(raca)]+generos[genero]] = []\n",
    "        for i in range(0,len(decis_pc)):\n",
    "            if i != 0 and i != len(decis_pc):\n",
    "                tabela_demografica[list(racas.keys())[list(racas.values()).index(raca)]+generos[genero]].append((pof[(pof['RENDA_TOTAL_PC']<decis_pc[i]) & (pof['RENDA_TOTAL_PC']>=decis_pc[i-1]) & (pof['V0405'].isin(raca)) & (pof['V0404']==genero)]['PESO_FINAL'].sum()/pof[(pof['RENDA_TOTAL_PC']<decis_pc[i]) & (pof['RENDA_TOTAL_PC']>=decis_pc[i-1])]['PESO_FINAL'].sum())*100)\n",
    "tabela_demografica = pd.DataFrame(tabela_demografica, index = lista_10_11)\n",
    "tabela_demografica = tabela_demografica[['NM','NH','BM','BH']]"
   ]
  },
  {
   "cell_type": "code",
   "execution_count": null,
   "id": "26f1ce70",
   "metadata": {},
   "outputs": [],
   "source": [
    "tabela_demografica = tabela_demografica.rename(columns={'NM': 'Mulheres Negras','NH':'Homens Negros','BM': 'Mulheres Brancas','BH':'Homens Brancos'})\n",
    "tabela_demografica.plot(kind='bar', stacked=True, width=0.8, figsize=(15,8))\n",
    "plt.legend(bbox_to_anchor=(0.86,-0.25), loc=\"lower right\",ncol=4,fontsize=12)\n",
    "plt.xlabel(\"Estratos de renda\", fontsize=14)\n",
    "plt.ylabel(\"Composição (em %)\", fontsize=14)\n",
    "plt.xticks(fontsize=12, rotation=45)\n",
    "plt.yticks(fontsize=12)"
   ]
  },
  {
   "cell_type": "code",
   "execution_count": null,
   "id": "bb179dc9",
   "metadata": {},
   "outputs": [],
   "source": [
    "tabela_demografica_ref = dict()\n",
    "for genero in list(generos.keys()):\n",
    "    for raca in list(racas.values()):\n",
    "        tabela_demografica_ref[list(racas.keys())[list(racas.values()).index(raca)]+generos[genero]] = []\n",
    "        for i in range(0,len(decis_pc)):\n",
    "            if i != 0 and i != len(decis_pc):\n",
    "                tabela_demografica_ref[list(racas.keys())[list(racas.values()).index(raca)]+generos[genero]].append((pof_familia[(pof_familia['RENDA_TOTAL_PC']<decis_pc[i]) & (pof_familia['RENDA_TOTAL_PC']>=decis_pc[i-1]) & (pof_familia['V0405'].isin(raca)) & (pof_familia['V0404']==genero)]['PESO_UC'].sum()/pof_familia[(pof_familia['RENDA_TOTAL_PC']<decis_pc[i]) & (pof_familia['RENDA_TOTAL_PC']>=decis_pc[i-1])]['PESO_UC'].sum())*100)\n",
    "tabela_demografica_ref = pd.DataFrame(tabela_demografica_ref,  index = lista_10_11)\n",
    "tabela_demografica_ref = tabela_demografica_ref[['NM','NH','BM','BH']]"
   ]
  },
  {
   "cell_type": "code",
   "execution_count": null,
   "id": "2bb1cbf1",
   "metadata": {},
   "outputs": [],
   "source": [
    "tabela_demografica_ref = tabela_demografica_ref.rename(columns={'NM': 'Mulheres Negras','NH':'Homens Negros','BM': 'Mulheres Brancas','BH':'Homens Brancos'})\n",
    "tabela_demografica_ref.plot(kind='bar', stacked=True, width=0.8, figsize=(15,8))\n",
    "plt.legend(bbox_to_anchor=(0.86,-0.25), loc=\"lower right\",ncol=4,fontsize=12)\n",
    "plt.xlabel(\"Estratos de renda\", fontsize=14)\n",
    "plt.ylabel(\"Composição (em %)\", fontsize=14)\n",
    "plt.xticks(fontsize=12, rotation=45)\n",
    "plt.yticks(fontsize=12)"
   ]
  },
  {
   "cell_type": "markdown",
   "id": "eadf72d0",
   "metadata": {},
   "source": [
    "## Impostos"
   ]
  },
  {
   "cell_type": "code",
   "execution_count": null,
   "id": "7f868f9b",
   "metadata": {},
   "outputs": [],
   "source": [
    "i=11\n",
    "raca= [1]\n",
    "((pof[(pof['RENDA_TOTAL_PC']<decis_pc[i]) & (pof['RENDA_TOTAL_PC']>=decis_pc[i-1]) & (pof['V0405'].isin(raca))]['RENDA_TOTAL_PC']*\n",
    "                                                                                                                  pof[(pof['RENDA_TOTAL_PC']<decis_pc[i]) & (pof['RENDA_TOTAL_PC']>=decis_pc[i-1]) & (pof['V0405'].isin(raca))]['PESO_FINAL']).sum())/(pof[(pof['RENDA_TOTAL_PC']<decis_pc[i]) & (pof['RENDA_TOTAL_PC']>=decis_pc[i-1]) & (pof['V0405'].isin(raca))]['PESO_FINAL']).sum()"
   ]
  },
  {
   "cell_type": "code",
   "execution_count": null,
   "id": "406220c7",
   "metadata": {},
   "outputs": [],
   "source": [
    "i=11\n",
    "raca= [2,4]\n",
    "((pof[(pof['RENDA_TOTAL_PC']<decis_pc[i]) & (pof['RENDA_TOTAL_PC']>=decis_pc[i-1]) & (pof['V0405'].isin(raca))]['RENDA_TOTAL_PC']*\n",
    "                                                                                                                  pof[(pof['RENDA_TOTAL_PC']<decis_pc[i]) & (pof['RENDA_TOTAL_PC']>=decis_pc[i-1]) & (pof['V0405'].isin(raca))]['PESO_FINAL']).sum())/(pof[(pof['RENDA_TOTAL_PC']<decis_pc[i]) & (pof['RENDA_TOTAL_PC']>=decis_pc[i-1]) & (pof['V0405'].isin(raca))]['PESO_FINAL']).sum()"
   ]
  },
  {
   "cell_type": "code",
   "execution_count": null,
   "id": "126bfcc0",
   "metadata": {},
   "outputs": [],
   "source": [
    "impostos_pre_table = dict()\n",
    "for genero in list(generos.keys()):\n",
    "    for raca in list(racas.values()):\n",
    "        impostos_pre_table[list(racas.keys())[list(racas.values()).index(raca)]+generos[genero]] = []\n",
    "        for i in range(0,len(decis_pc)):\n",
    "            if i != 0 and i != len(decis_pc):\n",
    "                    impostos_pre_table[list(racas.keys())[list(racas.values()).index(raca)]+generos[genero]].append(((pof[(pof['RENDA_TOTAL_PC']<decis_pc[i]) & (pof['RENDA_TOTAL_PC']>=decis_pc[i-1]) & (pof['V0405'].isin(raca)) & (pof['V0404']==genero)]['Impostos_PC']*\n",
    "                                                                                                                  pof[(pof['RENDA_TOTAL_PC']<decis_pc[i]) & (pof['RENDA_TOTAL_PC']>=decis_pc[i-1]) & (pof['V0405'].isin(raca)) & (pof['V0404']==genero)]['PESO_FINAL']).sum()/\n",
    "                                                                                                                  (pof[(pof['RENDA_TOTAL_PC']<decis_pc[i]) & (pof['RENDA_TOTAL_PC']>=decis_pc[i-1]) & (pof['V0405'].isin(raca)) & (pof['V0404']==genero)]['RENDA_TOTAL_PC']*\n",
    "                                                                                                                  pof[(pof['RENDA_TOTAL_PC']<decis_pc[i]) & (pof['RENDA_TOTAL_PC']>=decis_pc[i-1]) & (pof['V0405'].isin(raca)) & (pof['V0404']==genero)]['PESO_FINAL']).sum())*100)"
   ]
  },
  {
   "cell_type": "code",
   "execution_count": null,
   "id": "1dda3612",
   "metadata": {},
   "outputs": [],
   "source": [
    "impostos_tabela = pd.DataFrame(impostos_pre_table, index = lista_10_11)\n",
    "impostos_tabela = impostos_tabela.rename(columns={'NM': 'Mulheres Negras','NH':'Homens Negros','BM': 'Mulheres Brancas','BH':'Homens Brancos'})\n",
    "impostos_tabela.plot(kind='bar',width=0.8, figsize=(15,8))\n",
    "plt.xlabel(\"Estratos de renda\", fontsize=14)\n",
    "plt.ylabel(\"Incidência\", fontsize=14)\n",
    "plt.xticks(fontsize=12, rotation='horizontal')\n",
    "plt.yticks(fontsize=12)\n",
    "plt.legend(bbox_to_anchor=(0.9,-0.16), loc=\"lower right\",ncol=4,fontsize=12)\n",
    "#plt.title('Incidência de Impostos Diretos sobre a renda total de grupo demográfico per capita', fontsize = 16)"
   ]
  },
  {
   "cell_type": "code",
   "execution_count": null,
   "id": "c0debc12",
   "metadata": {},
   "outputs": [],
   "source": [
    "impostos_tabela"
   ]
  },
  {
   "cell_type": "code",
   "execution_count": null,
   "id": "6048542b",
   "metadata": {},
   "outputs": [],
   "source": [
    "impostos_tabela = {'Raça':[],'Imposto':[], 'Incidência':[], 'Decil': [], 'Gênero':[]}\n",
    "vetor_show = [\"0-50\", \"50-90\", \"90-99\", \"99-100\"]\n",
    "for genero in list(generos.keys()):\n",
    "    for imposto in impostos:\n",
    "        for raca in list(racas.values()):\n",
    "            for i in range(0,len(lista_50_40_1)):\n",
    "                if i != 0 and i != len(lista_50_40_1):\n",
    "                    impostos_tabela['Incidência'].append(((pof[(pof['RENDA_TOTAL_PC']<=lista_50_40_1[i]) & (pof['RENDA_TOTAL_PC']>=lista_50_40_1[i-1]) & (pof['V0405'].isin(raca)) & (pof['V0404']==genero)][imposto]*\n",
    "                                                                                                                                      pof[(pof['RENDA_TOTAL_PC']<=lista_50_40_1[i]) & (pof['RENDA_TOTAL_PC']>=lista_50_40_1[i-1]) & (pof['V0405'].isin(raca)) & (pof['V0404']==genero)]['PESO_FINAL']).sum()/\n",
    "                                                                                                                                      (pof[(pof['RENDA_TOTAL_PC']<=lista_50_40_1[i]) & (pof['RENDA_TOTAL_PC']>=lista_50_40_1[i-1]) & (pof['V0405'].isin(raca)) & (pof['V0404']==genero)]['RENDA_TOTAL_PC']*\n",
    "                                                                                                                                      pof[(pof['RENDA_TOTAL_PC']<=lista_50_40_1[i]) & (pof['RENDA_TOTAL_PC']>=lista_50_40_1[i-1]) & (pof['V0405'].isin(raca)) & (pof['V0404']==genero)]['PESO_FINAL']).sum())*100)\n",
    "                    impostos_tabela['Raça'].append(list(racas.keys())[list(racas.values()).index(raca)])\n",
    "                    impostos_tabela['Imposto'].append(imposto)\n",
    "                    impostos_tabela['Decil'].append(vetor_show[i-1])\n",
    "                    impostos_tabela['Gênero'].append(generos[genero])"
   ]
  },
  {
   "cell_type": "code",
   "execution_count": null,
   "id": "505e07ce",
   "metadata": {},
   "outputs": [],
   "source": [
    "tabela_impostos = pd.DataFrame(impostos_tabela)"
   ]
  },
  {
   "cell_type": "code",
   "execution_count": null,
   "id": "8fee583d",
   "metadata": {},
   "outputs": [],
   "source": [
    "raca_g = 'B'\n",
    "genero_g = 'M'\n",
    "dict_g = {}\n",
    "for t in impostos:\n",
    "    dict_g.update({t:list(tabela_impostos[(tabela_impostos['Raça']==raca_g) & (tabela_impostos['Gênero']==genero_g) & (tabela_impostos['Imposto']==t)]['Incidência'])})\n",
    "df1 = pd.DataFrame(dict_g, index = vetor_show)"
   ]
  },
  {
   "cell_type": "code",
   "execution_count": null,
   "id": "8c497cfc",
   "metadata": {},
   "outputs": [],
   "source": [
    "raca_g = 'B'\n",
    "genero_g = 'H'\n",
    "dict_g = {}\n",
    "for t in impostos:\n",
    "    dict_g.update({t:list(tabela_impostos[(tabela_impostos['Raça']==raca_g) & (tabela_impostos['Gênero']==genero_g) & (tabela_impostos['Imposto']==t)]['Incidência'])})\n",
    "df2 = pd.DataFrame(dict_g, index = vetor_show)"
   ]
  },
  {
   "cell_type": "code",
   "execution_count": null,
   "id": "c617162f",
   "metadata": {},
   "outputs": [],
   "source": [
    "raca_g = 'N'\n",
    "genero_g = 'M'\n",
    "dict_g = {}\n",
    "for t in impostos:\n",
    "    dict_g.update({t:list(tabela_impostos[(tabela_impostos['Raça']==raca_g) & (tabela_impostos['Gênero']==genero_g) & (tabela_impostos['Imposto']==t)]['Incidência'])})\n",
    "df3 = pd.DataFrame(dict_g, index = vetor_show)"
   ]
  },
  {
   "cell_type": "code",
   "execution_count": null,
   "id": "6cbf0854",
   "metadata": {},
   "outputs": [],
   "source": [
    "raca_g = 'N'\n",
    "genero_g = 'H'\n",
    "dict_g = {}\n",
    "for t in impostos:\n",
    "    dict_g.update({t:list(tabela_impostos[(tabela_impostos['Raça']==raca_g) & (tabela_impostos['Gênero']==genero_g) & (tabela_impostos['Imposto']==t)]['Incidência'])})\n",
    "df4 = pd.DataFrame(dict_g, index = vetor_show)"
   ]
  },
  {
   "cell_type": "code",
   "execution_count": null,
   "id": "76835620",
   "metadata": {},
   "outputs": [],
   "source": [
    "fig, axes = plt.subplots(nrows=2, ncols=2)\n",
    "pd.DataFrame(df1.sum(axis=1)).plot(ax=axes[0,0],kind='bar',width=0.8, figsize=(15,12), title = 'Mulheres Brancas', legend=False, ylim=(0,20), yerr=gerar_inter('B', 2))\n",
    "pd.DataFrame(df2.sum(axis=1)).plot(ax=axes[0,1],kind='bar',width=0.8, figsize=(15,12), stacked= True, ylim=(0,20), legend=False, title = 'Homens Brancos', yerr=gerar_inter('B', 1))\n",
    "pd.DataFrame(df3.sum(axis=1)).plot(ax=axes[1,0],kind='bar',width=0.8, figsize=(15,12), stacked= True, ylim=(0,20), legend=False, title = 'Mulheres Negras',yerr=gerar_inter('N', 2))\n",
    "pd.DataFrame(df4.sum(axis=1)).plot(ax=axes[1,1],kind='bar',width=0.8, figsize=(15,12), stacked= True, ylim=(0,20), legend=False, title = 'Homens Negros', yerr=gerar_inter('N', 1))\n",
    "plt.savefig('Intervalos2.jpg', dpi = 300)"
   ]
  },
  {
   "cell_type": "code",
   "execution_count": null,
   "id": "4547c99d",
   "metadata": {},
   "outputs": [],
   "source": [
    "df1 = ajustes_esteticos(df1)\n",
    "df2 = ajustes_esteticos(df2)\n",
    "df3 = ajustes_esteticos(df3)\n",
    "df4 = ajustes_esteticos(df4)"
   ]
  },
  {
   "cell_type": "code",
   "execution_count": null,
   "id": "2b412338",
   "metadata": {},
   "outputs": [],
   "source": [
    "fig, axes = plt.subplots(nrows=2, ncols=2)\n",
    "df1.plot(ax=axes[0,0], kind='bar',width=0.8, figsize=(15,12), stacked= True, ylim=(0,20), title = 'Mulheres Brancas',legend = False)\n",
    "df2.plot(ax=axes[0,1],kind='bar',width=0.8, figsize=(15,12), stacked= True, ylim=(0,20), title = 'Homens Brancos', legend = False)\n",
    "df3.plot(ax=axes[1,0],kind='bar',width=0.8, figsize=(15,12), stacked= True, ylim=(0,20), title = 'Mulheres Negras', legend = False)\n",
    "df4.plot(ax=axes[1,1],kind='bar',width=0.8, figsize=(15,12), stacked= True, ylim=(0,20), title = 'Homens Negros', legend = False)\n",
    "h, l = axes[0,0].get_legend_handles_labels()\n",
    "plt.legend(h,l, bbox_to_anchor=(0.7,-0.35), loc=\"lower right\", ncol=4,fontsize=12)\n",
    "#fig.suptitle('Incidência de Impostos', fontsize=16)\n",
    "plt.savefig('Impostos.png')"
   ]
  },
  {
   "cell_type": "code",
   "execution_count": null,
   "id": "edbfeda2",
   "metadata": {},
   "outputs": [],
   "source": [
    "emp_dom = dict()\n",
    "for raca in list(racas.values()):\n",
    "    emp_dom[list(racas.keys())[list(racas.values()).index(raca)]] = []\n",
    "    for i in range(0,len(lista_50_40_1)):\n",
    "        if i != 0 and i != len(lista_50_40_1):\n",
    "            emp_dom[list(racas.keys())[list(racas.values()).index(raca)]].append(pof_familia[(pof_familia['RENDA_TOTAL_PC']<lista_50_40_1[i]) & (pof_familia['RENDA_TOTAL_PC']>=lista_50_40_1[i-1]) & (pof_familia['V0405'].isin(raca)) & (pof_familia['ContrEmpDom'].notna())]['PESO_UC'].sum()/pof_familia[(pof_familia['RENDA_TOTAL_PC']<lista_50_40_1[i]) & (pof_familia['RENDA_TOTAL_PC']>=lista_50_40_1[i-1])]['PESO_UC'].sum())\n"
   ]
  },
  {
   "cell_type": "code",
   "execution_count": null,
   "id": "ba3771cb",
   "metadata": {},
   "outputs": [],
   "source": [
    "emp_dom = pd.DataFrame(emp_dom, index = vetor_show)\n",
    "\n",
    "emp_dom = emp_dom.rename(columns={'N': 'Negros', 'B':'Brancos'})\n",
    "emp_dom.plot(kind='bar',width=0.8, figsize=(15,8))\n",
    "plt.xlabel(\"Estratos de renda\", fontsize=14)\n",
    "plt.ylabel(\"Representação\", fontsize=14)\n",
    "plt.xticks(fontsize=12, rotation='horizontal')\n",
    "plt.yticks(fontsize=12)"
   ]
  },
  {
   "cell_type": "code",
   "execution_count": null,
   "id": "58121d91",
   "metadata": {},
   "outputs": [],
   "source": [
    "cont_prev_emp = dict()\n",
    "for genero in list(generos.keys()):\n",
    "    for raca in list(racas.values()):\n",
    "        cont_prev_emp[list(racas.keys())[list(racas.values()).index(raca)]+generos[genero]] = []\n",
    "        for i in range(0,len(lista_50_40_1)):\n",
    "            if i != 0 and i != len(decis_pc):\n",
    "                    cont_prev_emp[list(racas.keys())[list(racas.values()).index(raca)]+generos[genero]].append(((pof[(pof['RENDA_TOTAL_PC']<lista_50_40_1[i]) & (pof['RENDA_TOTAL_PC']>=lista_50_40_1[i-1]) & (pof['V0405'].isin(raca)) & (pof['V0404']==genero)]['CONT_PREV_EMP_PC']*\n",
    "                                                                                                                  pof[(pof['RENDA_TOTAL_PC']<lista_50_40_1[i]) & (pof['RENDA_TOTAL_PC']>=lista_50_40_1[i-1]) & (pof['V0405'].isin(raca)) & (pof['V0404']==genero)]['PESO_FINAL']).sum()/\n",
    "                                                                                                                  (pof[(pof['RENDA_TOTAL_PC']<lista_50_40_1[i]) & (pof['RENDA_TOTAL_PC']>=lista_50_40_1[i-1]) & (pof['V0405'].isin(raca)) & (pof['V0404']==genero)]['RENDA_TOTAL_PC']*\n",
    "                                                                                                                  pof[(pof['RENDA_TOTAL_PC']<lista_50_40_1[i]) & (pof['RENDA_TOTAL_PC']>=lista_50_40_1[i-1]) & (pof['V0405'].isin(raca)) & (pof['V0404']==genero)]['PESO_FINAL']).sum()))"
   ]
  },
  {
   "cell_type": "code",
   "execution_count": null,
   "id": "46da2029",
   "metadata": {},
   "outputs": [],
   "source": [
    "cont_prev_emp_tab = pd.DataFrame(cont_prev_emp, index = vetor_show)\n",
    "cont_prev_emp_tab = cont_prev_emp_tab[['BH','BM','NH','NM']]\n",
    "\n",
    "cont_prev_emp_tab = cont_prev_emp_tab.rename(columns={'NM': 'Mulheres Negras','NH':'Homens Negros','BM': 'Mulheres Brancas','BH':'Homens Brancos'})\n",
    "cont_prev_emp_tab.plot(kind='bar',width=0.8, figsize=(15,8))\n",
    "plt.xlabel(\"Estratos de renda\", fontsize=14)\n",
    "plt.ylabel(\"Incidência\", fontsize=14)\n",
    "plt.xticks(fontsize=12, rotation='horizontal')\n",
    "plt.yticks(fontsize=12)"
   ]
  },
  {
   "cell_type": "code",
   "execution_count": null,
   "id": "2c6a60dd",
   "metadata": {},
   "outputs": [],
   "source": [
    "transferencias_dem_renda = dict()\n",
    "for genero in list(generos.keys()):\n",
    "    for raca in list(racas.values()):\n",
    "        transferencias_dem_renda[list(racas.keys())[list(racas.values()).index(raca)]+generos[genero]] = []\n",
    "        for i in range(0,len(decis_pc)):\n",
    "            if i != 0 and i != len(decis_pc):\n",
    "                    transferencias_dem_renda[list(racas.keys())[list(racas.values()).index(raca)]+generos[genero]].append(((pof[(pof['RENDA_TOTAL_PC']<decis_pc[i]) & (pof['RENDA_TOTAL_PC']>=decis_pc[i-1]) & (pof['V0405'].isin(raca)) & (pof['V0404']==genero)]['Transferencias_PC']*\n",
    "                        pof[(pof['RENDA_TOTAL_PC']<decis_pc[i]) & (pof['RENDA_TOTAL_PC']>=decis_pc[i-1]) & (pof['V0405'].isin(raca)) & (pof['V0404']==genero)]['PESO_FINAL']).sum()/\n",
    "                                                                                                                  (pof[(pof['RENDA_TOTAL_PC']<decis_pc[i]) & (pof['RENDA_TOTAL_PC']>=decis_pc[i-1]) & (pof['V0405'].isin(raca)) & (pof['V0404']==genero)]['RENDA_TOTAL_PC']*\n",
    "                                                                                                                  pof[(pof['RENDA_TOTAL_PC']<decis_pc[i]) & (pof['RENDA_TOTAL_PC']>=decis_pc[i-1]) & (pof['V0405'].isin(raca)) & (pof['V0404']==genero)]['PESO_FINAL']).sum())*100)"
   ]
  },
  {
   "cell_type": "code",
   "execution_count": null,
   "id": "45675be6",
   "metadata": {},
   "outputs": [],
   "source": [
    "tabela_trans = pd.DataFrame(transferencias_dem_renda, index = lista_10_11)\n",
    "tabela_trans = tabela_trans.rename(columns={'NM': 'Mulheres Negras','NH':'Homens Negros','BM': 'Mulheres Brancas','BH':'Homens Brancos'})\n",
    "tabela_trans.plot(kind='bar',width=0.8, figsize=(15,8))\n",
    "#plt.title('Participação de Transferências\\n na renda total do grupo demográfico', fontsize=18)\n",
    "plt.xlabel(\"Estratos de renda\", fontsize=14)\n",
    "plt.ylabel(\"Participação\", fontsize=14)\n",
    "plt.xticks(fontsize=12, rotation='horizontal')\n",
    "plt.legend(bbox_to_anchor=(0.9,-0.16), loc=\"lower right\",ncol=4,fontsize=12)\n",
    "plt.yticks(fontsize=12)"
   ]
  },
  {
   "cell_type": "code",
   "execution_count": null,
   "id": "310e0db9",
   "metadata": {},
   "outputs": [],
   "source": [
    "df1['Grupo Demográfico']=['Mulheres Brancas']*4\n",
    "df2['Grupo Demográfico']=['Homens Brancos']*4\n",
    "df3['Grupo Demográfico']=['Mulheres Negras']*4\n",
    "df4['Grupo Demográfico']=['Homens Negros']*4\n",
    "df_total = df1.append(df2).append(df3).append(df4)\n",
    "df_total"
   ]
  },
  {
   "cell_type": "code",
   "execution_count": null,
   "id": "a157edb6",
   "metadata": {},
   "outputs": [],
   "source": [
    "transferencias_tabela = {'Raça':[],'Transferência':[], 'Participação':[], 'Decil': [], 'Gênero':[]}\n",
    "for genero in list(generos.keys()):\n",
    "    for transferencia in transferencias:\n",
    "        for raca in list(racas.values()):\n",
    "            for i in range(0,len(lista_50_40_1)):\n",
    "                if i != 0 and i != len(lista_50_40_1):\n",
    "                    transferencias_tabela['Participação'].append(((pof[(pof['RENDA_TOTAL_PC']<=lista_50_40_1[i]) & (pof['RENDA_TOTAL_PC']>=lista_50_40_1[i-1]) & (pof['V0405'].isin(raca)) & (pof['V0404']==genero)][transferencia]*\n",
    "                                                                                                                  pof[(pof['RENDA_TOTAL_PC']<=lista_50_40_1[i]) & (pof['RENDA_TOTAL_PC']>=lista_50_40_1[i-1]) & (pof['V0405'].isin(raca)) & (pof['V0404']==genero)]['PESO_FINAL']).sum()/\n",
    "                                                                                                                  (pof[(pof['RENDA_TOTAL_PC']<=lista_50_40_1[i]) & (pof['RENDA_TOTAL_PC']>=lista_50_40_1[i-1]) & (pof['V0405'].isin(raca)) & (pof['V0404']==genero)]['RENDA_TOTAL_PC']*\n",
    "                                                                                                                  pof[(pof['RENDA_TOTAL_PC']<=lista_50_40_1[i]) & (pof['RENDA_TOTAL_PC']>=lista_50_40_1[i-1]) & (pof['V0405'].isin(raca)) & (pof['V0404']==genero)]['PESO_FINAL']).sum())*100)\n",
    "                    transferencias_tabela['Raça'].append(list(racas.keys())[list(racas.values()).index(raca)])\n",
    "                    transferencias_tabela['Transferência'].append(transferencia)\n",
    "                    transferencias_tabela['Decil'].append(vetor_show[i-1])\n",
    "                    transferencias_tabela['Gênero'].append(generos[genero])"
   ]
  },
  {
   "cell_type": "code",
   "execution_count": null,
   "id": "e051cdae",
   "metadata": {},
   "outputs": [],
   "source": [
    "transferencias_tabela = pd.DataFrame(transferencias_tabela)"
   ]
  },
  {
   "cell_type": "code",
   "execution_count": null,
   "id": "db668986",
   "metadata": {},
   "outputs": [],
   "source": [
    "transferencias_tabela"
   ]
  },
  {
   "cell_type": "code",
   "execution_count": null,
   "id": "59754c84",
   "metadata": {},
   "outputs": [],
   "source": [
    "raca_g = 'B'\n",
    "genero_g = 'M'\n",
    "dict_g = {}\n",
    "for t in transferencias:\n",
    "    dict_g.update({t:list(transferencias_tabela[(transferencias_tabela['Raça']==raca_g) & (transferencias_tabela['Gênero']==genero_g) & (transferencias_tabela['Transferência']==t)]['Participação'])})\n",
    "df1 = pd.DataFrame(dict_g, index = vetor_show)"
   ]
  },
  {
   "cell_type": "code",
   "execution_count": null,
   "id": "1f60e6b5",
   "metadata": {},
   "outputs": [],
   "source": [
    "raca_g = 'B'\n",
    "genero_g = 'H'\n",
    "dict_g = {}\n",
    "for t in transferencias:\n",
    "    dict_g.update({t:list(transferencias_tabela[(transferencias_tabela['Raça']==raca_g) & (transferencias_tabela['Gênero']==genero_g) & (transferencias_tabela['Transferência']==t)]['Participação'])})\n",
    "df2 = pd.DataFrame(dict_g, index = vetor_show)"
   ]
  },
  {
   "cell_type": "code",
   "execution_count": null,
   "id": "48b649a9",
   "metadata": {},
   "outputs": [],
   "source": [
    "raca_g = 'N'\n",
    "genero_g = 'M'\n",
    "dict_g = {}\n",
    "for t in transferencias:\n",
    "    dict_g.update({t:list(transferencias_tabela[(transferencias_tabela['Raça']==raca_g) & (transferencias_tabela['Gênero']==genero_g) & (transferencias_tabela['Transferência']==t)]['Participação'])})\n",
    "df3 = pd.DataFrame(dict_g, index = vetor_show)"
   ]
  },
  {
   "cell_type": "code",
   "execution_count": null,
   "id": "13d38025",
   "metadata": {},
   "outputs": [],
   "source": [
    "raca_g = 'N'\n",
    "genero_g = 'H'\n",
    "dict_g = {}\n",
    "for t in transferencias:\n",
    "    dict_g.update({t:list(transferencias_tabela[(transferencias_tabela['Raça']==raca_g) & (transferencias_tabela['Gênero']==genero_g) & (transferencias_tabela['Transferência']==t)]['Participação'])})\n",
    "df4 = pd.DataFrame(dict_g, index = vetor_show)"
   ]
  },
  {
   "cell_type": "code",
   "execution_count": null,
   "id": "44a10f75",
   "metadata": {},
   "outputs": [],
   "source": [
    "fig, axes = plt.subplots(nrows=2, ncols=2)\n",
    "pd.DataFrame(df1.sum(axis=1)).plot(ax=axes[0,0],kind='bar',width=0.8, figsize=(15,12), ylim=(0,30), title = 'Mulheres Brancas', legend=False, yerr=gerar_inter_t('B', 2))\n",
    "pd.DataFrame(df2.sum(axis=1)).plot(ax=axes[0,1],kind='bar',width=0.8, figsize=(15,12), ylim=(0,30),  stacked= True, legend=False, title = 'Homens Brancos', yerr=gerar_inter_t('B', 1))\n",
    "pd.DataFrame(df3.sum(axis=1)).plot(ax=axes[1,0],kind='bar',width=0.8, figsize=(15,12), ylim=(0,30),  stacked= True, legend=False, title = 'Mulheres Negras',yerr=gerar_inter_t('N', 2))\n",
    "pd.DataFrame(df4.sum(axis=1)).plot(ax=axes[1,1],kind='bar',width=0.8, figsize=(15,12), ylim=(0,30),  stacked= True, legend=False, title = 'Homens Negros', yerr=gerar_inter_t('N', 1))\n",
    "plt.savefig('IntervalosTrans.jpg', dpi = 300)"
   ]
  },
  {
   "cell_type": "code",
   "execution_count": null,
   "id": "00a62358",
   "metadata": {},
   "outputs": [],
   "source": [
    "def ajustes_esteticos_t(df):\n",
    "    df['Outras Transferências'] = df['OUTRAS_TRANSFERENCIAS_T_PC'] + df['AUXI_PUB_T_PC'] + df['AUX_MIS_T_PC'] + df['BOL_EST_T_PC']\n",
    "    df.drop('OUTRAS_TRANSFERENCIAS_T_PC', inplace = True, axis = 1)\n",
    "    df.drop('AUXI_PUB_T_PC', inplace = True, axis = 1)\n",
    "    df.drop('AUX_MIS_T_PC', inplace = True, axis = 1)\n",
    "    df.drop('BOL_EST_T_PC', inplace = True, axis = 1)\n",
    "    df.rename(columns = {'RGPS_T_PC':'RGPS', 'RPPS_T_PC':'RPPS', 'PBF_T_PC': 'Bolsa Família', 'SEG_DES_T_PC': 'Seguro Desemprego', 'BPC_T_PC': 'BPC'}, inplace = True)\n",
    "    return df\n",
    "df1 = ajustes_esteticos_t(df1)\n",
    "df2 = ajustes_esteticos_t(df2)\n",
    "df3 = ajustes_esteticos_t(df3)\n",
    "df4 = ajustes_esteticos_t(df4)"
   ]
  },
  {
   "cell_type": "code",
   "execution_count": null,
   "id": "a4af93f6",
   "metadata": {},
   "outputs": [],
   "source": [
    "fig, axes = plt.subplots(nrows=2, ncols=2)\n",
    "df1.plot(ax=axes[0,0], kind='bar',width=0.8, figsize=(15,12), stacked= True, ylim=(0,30), title = 'Mulheres Brancas',legend=False)\n",
    "df2.plot(ax=axes[0,1],kind='bar',width=0.8, figsize=(15,12), stacked= True, ylim=(0,30), title = 'Homens Brancos',legend=False)\n",
    "df3.plot(ax=axes[1,0],kind='bar',width=0.8, figsize=(15,12), stacked= True, ylim=(0,30), title = 'Mulheres Negras',legend=False)\n",
    "df4.plot(ax=axes[1,1],kind='bar',width=0.8, figsize=(15,12), stacked= True, ylim=(0,30), title = 'Homens Negros',legend=False)\n",
    "h, l = axes[0,0].get_legend_handles_labels()\n",
    "plt.legend(h,l, bbox_to_anchor=(0.7,-0.35), loc=\"lower right\", ncol=4,fontsize=12)"
   ]
  },
  {
   "cell_type": "code",
   "execution_count": null,
   "id": "5a519376",
   "metadata": {},
   "outputs": [],
   "source": [
    "df1['Grupo Demográfico']=['Mulheres Brancas']*4\n",
    "df2['Grupo Demográfico']=['Homens Brancos']*4\n",
    "df3['Grupo Demográfico']=['Mulheres Negras']*4\n",
    "df4['Grupo Demográfico']=['Homens Negros']*4\n",
    "df_total = df1.append(df2).append(df3).append(df4)\n",
    "df_total"
   ]
  },
  {
   "cell_type": "code",
   "execution_count": null,
   "id": "ad57b35c",
   "metadata": {},
   "outputs": [],
   "source": [
    "iterador = {'Contribuição Previdenciária':['CONTR_PREVI_PC'], 'IRPF':['IRPF_PC'], 'Impostos sobre Imóveis': ['IMOVEL_PC'], 'IPVA': ['IPVA_PC'],'Deduções de Trabalho':['DEDUCOES_TRABALHO_PC','DEDUCOES_N_T_PC'],'Outros Diretos':['CONT_PREV_EMP_PC','OUT_DIR_PC']}"
   ]
  },
  {
   "cell_type": "code",
   "execution_count": null,
   "id": "daf0e844",
   "metadata": {},
   "outputs": [],
   "source": [
    "impostos_pago = dict()\n",
    "for genero in list(generos.keys()):\n",
    "    for raca in list(racas.values()):\n",
    "        impostos_pago[list(racas.keys())[list(racas.values()).index(raca)]+generos[genero]] = []\n",
    "        for chaves in iterador.keys():\n",
    "            if len(iterador[chaves])>1:\n",
    "                total_imposto = 0\n",
    "                total_imposto += (pof[(pof['V0405'].isin(raca))&(pof['V0404']==genero)][iterador[chaves][0]]*pof[(pof['V0405'].isin(raca))&(pof['V0404']==genero)]['PESO_FINAL']).sum()\n",
    "                total_imposto += (pof[(pof['V0405'].isin(raca))&(pof['V0404']==genero)][iterador[chaves][1]]*pof[(pof['V0405'].isin(raca))&(pof['V0404']==genero)]['PESO_FINAL']).sum()\n",
    "                impostos_pago[list(racas.keys())[list(racas.values()).index(raca)]+generos[genero]].append((total_imposto/((pof[iterador[chaves][0]]+pof[iterador[chaves][1]])*pof['PESO_FINAL']).sum())*100)\n",
    "            else:\n",
    "                impostos_pago[list(racas.keys())[list(racas.values()).index(raca)]+generos[genero]].append(((pof[(pof['V0405'].isin(raca))&(pof['V0404']==genero)][iterador[chaves][0]]*pof[(pof['V0405'].isin(raca))&(pof['V0404']==genero)]['PESO_FINAL']).sum()/(pof[iterador[chaves][0]]*pof['PESO_FINAL']).sum())*100)"
   ]
  },
  {
   "cell_type": "code",
   "execution_count": null,
   "id": "8a9b06da",
   "metadata": {},
   "outputs": [],
   "source": [
    "impostos_demografico = pd.DataFrame(impostos_pago, index = iterador.keys())\n",
    "impostos_demografico = impostos_demografico.rename(columns={'NM': 'Mulheres Negras','NH':'Homens Negros','BM': 'Mulheres Brancas','BH':'Homens Brancos'})"
   ]
  },
  {
   "cell_type": "code",
   "execution_count": null,
   "id": "8bcef103",
   "metadata": {},
   "outputs": [],
   "source": [
    "impostos_demografico.to_excel('Imp_Dem.xlsx')"
   ]
  },
  {
   "cell_type": "code",
   "execution_count": null,
   "id": "e0f29dcb",
   "metadata": {},
   "outputs": [],
   "source": [
    "impostos_demografico"
   ]
  },
  {
   "cell_type": "code",
   "execution_count": null,
   "id": "35977c07",
   "metadata": {},
   "outputs": [],
   "source": [
    "ocupacoes = list(range(1,8))"
   ]
  },
  {
   "cell_type": "code",
   "execution_count": null,
   "id": "9e35d9c1",
   "metadata": {},
   "outputs": [],
   "source": [
    "ocupacoes_dict = {'Raça': [], 'Gênero': [], 'Decil': [] ,'Ocupação': [], 'Porcentagem': []}\n",
    "for genero in list(generos.keys()):\n",
    "    for ocupacao in ocupacoes:\n",
    "        for raca in list(racas.values()):\n",
    "            for i in range(0,len(decis_pc)):\n",
    "                if i != 0 and i != len(decis_pc):\n",
    "                    ocupacoes_dict['Porcentagem'].append(((pof[(pof['RENDA_TOTAL_PC']<decis_pc[i]) & (pof['RENDA_TOTAL_PC']>=decis_pc[i-1]) & (pof['V0405'].isin(raca)) & (pof['V0404']==genero) & (pof['PosiOcup'] == ocupacao)]['PESO_FINAL']*pof[(pof['RENDA_TOTAL_PC']<decis_pc[i]) & (pof['RENDA_TOTAL_PC']>=decis_pc[i-1]) & (pof['V0405'].isin(raca)) & (pof['V0404']==genero) & (pof['PosiOcup'] == ocupacao)]['RENDA_TOTAL_PC']).sum()/\n",
    "                    (pof[(pof['RENDA_TOTAL_PC']<decis_pc[i]) & (pof['RENDA_TOTAL_PC']>=decis_pc[i-1]) & (pof['V0405'].isin(raca)) & (pof['V0404']==genero)]['PESO_FINAL']*pof[(pof['RENDA_TOTAL_PC']<decis_pc[i]) & (pof['RENDA_TOTAL_PC']>=decis_pc[i-1]) & (pof['V0405'].isin(raca)) & (pof['V0404']==genero) & (pof['PosiOcup'] != 0)]['RENDA_TOTAL_PC']).sum())*100)\n",
    "                    ocupacoes_dict['Gênero'].append(generos[genero])\n",
    "                    ocupacoes_dict['Raça'].append(list(racas.keys())[list(racas.values()).index(raca)])\n",
    "                    ocupacoes_dict['Decil'].append(i)\n",
    "                    ocupacoes_dict['Ocupação'].append(ocupacao)"
   ]
  },
  {
   "cell_type": "code",
   "execution_count": null,
   "id": "8425f41e",
   "metadata": {},
   "outputs": [],
   "source": [
    "ocupacoes_table = pd.DataFrame(ocupacoes_dict)"
   ]
  },
  {
   "cell_type": "code",
   "execution_count": null,
   "id": "3a85331e",
   "metadata": {},
   "outputs": [],
   "source": [
    "raca_g = 'N'\n",
    "genero_g = 'H'\n",
    "dict_g = {}\n",
    "for t in ocupacoes:\n",
    "    dict_g.update({t:list(ocupacoes_table[(ocupacoes_table['Raça']==raca_g) & (ocupacoes_table['Gênero']==genero_g) & (ocupacoes_table['Ocupação']==t)]['Porcentagem'])})\n",
    "df1 = pd.DataFrame(dict_g, index = list(range(1,12)))"
   ]
  },
  {
   "cell_type": "code",
   "execution_count": null,
   "id": "848d460d",
   "metadata": {},
   "outputs": [],
   "source": [
    "df1 = df1.set_axis(['Trabalhador Doméstico', 'Militar', 'Empregado do setor privado', 'Empregado do setor público', 'Empregador','Conta própria','Trabalhador não remunerado em ajuda a membro do domicílio ou parente'], axis=1, inplace=False)"
   ]
  },
  {
   "cell_type": "code",
   "execution_count": null,
   "id": "35b8e4f9",
   "metadata": {},
   "outputs": [],
   "source": [
    "df1.plot(kind='bar', stacked = True, width=0.8, figsize=(15,8))\n",
    "plt.xlabel(\"Decis de renda\", fontsize=14)\n",
    "plt.ylabel(\"Porcentagem\", fontsize=14)\n",
    "plt.xticks(fontsize=12, rotation='horizontal')\n",
    "plt.yticks(fontsize=12)"
   ]
  },
  {
   "cell_type": "code",
   "execution_count": null,
   "id": "66124fcb",
   "metadata": {},
   "outputs": [],
   "source": [
    "raca_g = 'B'\n",
    "genero_g = 'H'\n",
    "dict_g = {}\n",
    "for t in ocupacoes:\n",
    "    dict_g.update({t:list(ocupacoes_table[(ocupacoes_table['Raça']==raca_g) & (ocupacoes_table['Gênero']==genero_g) & (ocupacoes_table['Ocupação']==t)]['Porcentagem'])})\n",
    "df2 = pd.DataFrame(dict_g, index = list(range(1,12)))"
   ]
  },
  {
   "cell_type": "code",
   "execution_count": null,
   "id": "61c0e703",
   "metadata": {},
   "outputs": [],
   "source": [
    "df2 = df2.set_axis(['Trabalhador Doméstico', 'Militar', 'Empregado do setor privado', 'Empregado do setor público', 'Empregador','Conta própria','Trabalhador não remunerado em ajuda a membro do domicílio ou parente'], axis=1, inplace=False)"
   ]
  },
  {
   "cell_type": "code",
   "execution_count": null,
   "id": "acb6874f",
   "metadata": {},
   "outputs": [],
   "source": [
    "df2.plot(kind='bar', stacked = True, width=0.8, figsize=(15,8))\n",
    "plt.xlabel(\"Decis de renda\", fontsize=14)\n",
    "plt.ylabel(\"Porcentagem\", fontsize=14)\n",
    "plt.xticks(fontsize=12, rotation='horizontal')\n",
    "plt.yticks(fontsize=12)"
   ]
  },
  {
   "cell_type": "code",
   "execution_count": null,
   "id": "7cb99545",
   "metadata": {},
   "outputs": [],
   "source": [
    "raca_g = 'B'\n",
    "genero_g = 'M'\n",
    "dict_g = {}\n",
    "for t in ocupacoes:\n",
    "    dict_g.update({t:list(ocupacoes_table[(ocupacoes_table['Raça']==raca_g) & (ocupacoes_table['Gênero']==genero_g) & (ocupacoes_table['Ocupação']==t)]['Porcentagem'])})\n",
    "df3 = pd.DataFrame(dict_g, index = list(range(1,12)))\n",
    "df3 = df3.set_axis(['Trabalhador Doméstico', 'Militar', 'Empregado do setor privado', 'Empregado do setor público', 'Empregador','Conta própria','Trabalhador não remunerado em ajuda a membro do domicílio ou parente'], axis=1, inplace=False)\n",
    "df3.plot(kind='bar', stacked = True, width=0.8, figsize=(15,8))\n",
    "plt.xlabel(\"Decis de renda\", fontsize=14)\n",
    "plt.ylabel(\"Porcentagem\", fontsize=14)\n",
    "plt.xticks(fontsize=12, rotation='horizontal')\n",
    "plt.yticks(fontsize=12)"
   ]
  },
  {
   "cell_type": "code",
   "execution_count": null,
   "id": "2e9d9594",
   "metadata": {},
   "outputs": [],
   "source": [
    "raca_g = 'N'\n",
    "genero_g = 'M'\n",
    "dict_g = {}\n",
    "for t in ocupacoes:\n",
    "    dict_g.update({t:list(ocupacoes_table[(ocupacoes_table['Raça']==raca_g) & (ocupacoes_table['Gênero']==genero_g) & (ocupacoes_table['Ocupação']==t)]['Porcentagem'])})\n",
    "df4 = pd.DataFrame(dict_g, index = list(range(1,12)))\n",
    "df4 = df4.set_axis(['Trabalhador Doméstico', 'Militar', 'Empregado do setor privado', 'Empregado do setor público', 'Empregador','Conta própria','Trabalhador não remunerado em ajuda a membro do domicílio ou parente'], axis=1, inplace=False)\n",
    "df4.plot(kind='bar', stacked = True, width=0.8, figsize=(15,8))\n",
    "plt.xlabel(\"Decis de renda\", fontsize=14)\n",
    "plt.ylabel(\"Porcentagem\", fontsize=14)\n",
    "plt.xticks(fontsize=12, rotation='horizontal')\n",
    "plt.yticks(fontsize=12)"
   ]
  },
  {
   "cell_type": "code",
   "execution_count": null,
   "id": "aeb896ad",
   "metadata": {},
   "outputs": [],
   "source": [
    "df_new = pd.DataFrame(df1.loc[11,]).transpose()\n",
    "df_new = df_new.append(pd.DataFrame(df2.loc[11,]).transpose())\n",
    "df_new = df_new.append(pd.DataFrame(df3.loc[11,]).transpose())\n",
    "df_new = df_new.append(pd.DataFrame(df4.loc[11,]).transpose())"
   ]
  },
  {
   "cell_type": "code",
   "execution_count": null,
   "id": "dc8d2492",
   "metadata": {},
   "outputs": [],
   "source": [
    "df_new.set_axis(['Homens Negros','Homens Brancos','Mulheres Brancas','Mulheres Negras'], axis = 0, inplace = True)"
   ]
  },
  {
   "cell_type": "code",
   "execution_count": null,
   "id": "12df7da8",
   "metadata": {},
   "outputs": [],
   "source": [
    "df_new.to_csv('ocupacoes1porcento.csv')"
   ]
  },
  {
   "cell_type": "code",
   "execution_count": null,
   "id": "a6cfac2e",
   "metadata": {},
   "outputs": [],
   "source": [
    "df_new.plot(kind='bar', stacked = True, width=0.8, figsize=(15,8))\n",
    "plt.xlabel(\"Grupo Demográfico\", fontsize=14)\n",
    "plt.ylabel(\"Porcentagem\", fontsize=14)\n",
    "plt.xticks(fontsize=12, rotation='horizontal')\n",
    "plt.title('Composição Empregatícia de Acordo com a Renda \\n por grupo demográfico nos 1% mais rico')\n",
    "plt.legend(bbox_to_anchor=(0.95,-0.3), loc=\"lower right\",ncol=2,fontsize=12)\n",
    "plt.yticks(fontsize=12)"
   ]
  }
 ],
 "metadata": {
  "kernelspec": {
   "display_name": "Python 3",
   "language": "python",
   "name": "python3"
  },
  "language_info": {
   "codemirror_mode": {
    "name": "ipython",
    "version": 3
   },
   "file_extension": ".py",
   "mimetype": "text/x-python",
   "name": "python",
   "nbconvert_exporter": "python",
   "pygments_lexer": "ipython3",
   "version": "3.8.8"
  }
 },
 "nbformat": 4,
 "nbformat_minor": 5
}
